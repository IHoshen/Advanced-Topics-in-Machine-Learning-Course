{
 "cells": [
  {
   "cell_type": "code",
   "execution_count": 3,
   "metadata": {},
   "outputs": [],
   "source": [
    "import pandas as pd\n",
    "import numpy as np\n",
    "import matplotlib.pyplot as plt\n",
    "from sklearn.preprocessing import OneHotEncoder, LabelEncoder\n",
    "from sklearn.compose import ColumnTransformer\n",
    "from sklearn.cluster import DBSCAN\n",
    "from sklearn.metrics import silhouette_score\n",
    "from sklearn.decomposition import PCA\n",
    "from sklearn.cluster import KMeans\n",
    "from sklearn.metrics import davies_bouldin_score\n",
    "from sklearn.metrics import calinski_harabasz_score\n",
    "from sklearn.mixture import GaussianMixture\n",
    "from sklearn.cluster import AgglomerativeClustering\n",
    "from sklearn.tree import DecisionTreeClassifier"
   ]
  },
  {
   "cell_type": "markdown",
   "metadata": {},
   "source": [
    "#### Import the data"
   ]
  },
  {
   "cell_type": "code",
   "execution_count": 4,
   "metadata": {},
   "outputs": [],
   "source": [
    "data = pd.read_csv(r\"-------")\n",
    "df = pd.DataFrame(data)"
   ]
  },
  {
   "cell_type": "markdown",
   "metadata": {},
   "source": [
    "#### EDA"
   ]
  },
  {
   "cell_type": "code",
   "execution_count": 5,
   "metadata": {},
   "outputs": [
    {
     "name": "stdout",
     "output_type": "stream",
     "text": [
      "<class 'pandas.core.frame.DataFrame'>\n",
      "RangeIndex: 4792 entries, 0 to 4791\n",
      "Data columns (total 38 columns):\n",
      " #   Column                                          Non-Null Count  Dtype  \n",
      "---  ------                                          --------------  -----  \n",
      " 0   שנת לימודים                                     4791 non-null   object \n",
      " 1   שם מחוז                                         4791 non-null   object \n",
      " 2   שם רשות                                         4791 non-null   object \n",
      " 3   סמל מוסד                                        4791 non-null   float64\n",
      " 4   שם מוסד                                         4791 non-null   object \n",
      " 5   חמשון טיפוח                                     4791 non-null   object \n",
      " 6   סטטוס מוסד                                      4791 non-null   object \n",
      " 7   סוג חינוך מוסד                                  4791 non-null   object \n",
      " 8   שלבי חינוך במוסד                                4791 non-null   object \n",
      " 9   מגזר                                            4791 non-null   object \n",
      " 10  סוג פיקוח                                       4791 non-null   object \n",
      " 11  מעמד משפטי                                      4791 non-null   object \n",
      " 12   שעות הוראה                                     4792 non-null   object \n",
      " 13  עלות  שעות הוראה                                4792 non-null   object \n",
      " 14  שעות פרטניות                                    4792 non-null   object \n",
      " 15   שעות שהיה                                      4792 non-null   object \n",
      " 16  שעות הדרכה                                      4792 non-null   int64  \n",
      " 17  עלות תיקצוב שעות הדרכה                          4792 non-null   int64  \n",
      " 18  שעות איחוד משכורת                               4792 non-null   object \n",
      " 19   עלות תיקצוב שעות איחוד משכורת                  4792 non-null   object \n",
      " 20  שעות בודדות -חנ\"מ - חופשות                      4792 non-null   object \n",
      " 21  עלות שעות בודדות -חנ\"מ - חופשות                 4792 non-null   object \n",
      " 22  שכ\"ל                                            4792 non-null   object \n",
      " 23  גני ילדים                                       4792 non-null   int64  \n",
      " 24  שירותי היקף                                     4792 non-null   object \n",
      " 25  תקציב הסעות                                     4792 non-null   object \n",
      " 26  פרויקטים והעברות לרשויות מקומיות ובעלויות       4792 non-null   object \n",
      " 27  שעות רשת חינוך עצמאי ומעיין חינוך תורני         4792 non-null   object \n",
      " 28   עלות שעות רשת חינוך עצמאי ומעיין חינוך תורני   4792 non-null   object \n",
      " 29  שעות מוסדות פטור                                4792 non-null   object \n",
      " 30  עלות שעות מוסדות פטור                           4792 non-null   object \n",
      " 31  שירותי עזר - מוסדות פטור                        4792 non-null   object \n",
      " 32  מספר תלמידים בפועל חינוך רגיל                   4792 non-null   object \n",
      " 33  מספר תלמידים בפועל חינוך מיוחד                  4792 non-null   object \n",
      " 34   מס' כיתות  חינוך רגיל                          4792 non-null   object \n",
      " 35   מס' כיתות  חינוך מיוחד                         4792 non-null   object \n",
      " 36  סה\"כ תקציב שכר ותשלומים                         4792 non-null   object \n",
      " 37  הערות                                           4791 non-null   object \n",
      "dtypes: float64(1), int64(3), object(34)\n",
      "memory usage: 1.4+ MB\n"
     ]
    }
   ],
   "source": [
    "data.info()"
   ]
  },
  {
   "cell_type": "code",
   "execution_count": 6,
   "metadata": {},
   "outputs": [
    {
     "data": {
      "text/html": [
       "<div>\n",
       "<style scoped>\n",
       "    .dataframe tbody tr th:only-of-type {\n",
       "        vertical-align: middle;\n",
       "    }\n",
       "\n",
       "    .dataframe tbody tr th {\n",
       "        vertical-align: top;\n",
       "    }\n",
       "\n",
       "    .dataframe thead th {\n",
       "        text-align: right;\n",
       "    }\n",
       "</style>\n",
       "<table border=\"1\" class=\"dataframe\">\n",
       "  <thead>\n",
       "    <tr style=\"text-align: right;\">\n",
       "      <th></th>\n",
       "      <th>שנת לימודים</th>\n",
       "      <th>שם מחוז</th>\n",
       "      <th>שם רשות</th>\n",
       "      <th>סמל מוסד</th>\n",
       "      <th>שם מוסד</th>\n",
       "      <th>חמשון טיפוח</th>\n",
       "      <th>סטטוס מוסד</th>\n",
       "      <th>סוג חינוך מוסד</th>\n",
       "      <th>שלבי חינוך במוסד</th>\n",
       "      <th>מגזר</th>\n",
       "      <th>...</th>\n",
       "      <th>עלות שעות רשת חינוך עצמאי ומעיין חינוך תורני</th>\n",
       "      <th>שעות מוסדות פטור</th>\n",
       "      <th>עלות שעות מוסדות פטור</th>\n",
       "      <th>שירותי עזר - מוסדות פטור</th>\n",
       "      <th>מספר תלמידים בפועל חינוך רגיל</th>\n",
       "      <th>מספר תלמידים בפועל חינוך מיוחד</th>\n",
       "      <th>מס' כיתות  חינוך רגיל</th>\n",
       "      <th>מס' כיתות  חינוך מיוחד</th>\n",
       "      <th>סה\"כ תקציב שכר ותשלומים</th>\n",
       "      <th>הערות</th>\n",
       "    </tr>\n",
       "  </thead>\n",
       "  <tbody>\n",
       "    <tr>\n",
       "      <th>0</th>\n",
       "      <td>NaN</td>\n",
       "      <td>NaN</td>\n",
       "      <td>NaN</td>\n",
       "      <td>NaN</td>\n",
       "      <td>NaN</td>\n",
       "      <td>NaN</td>\n",
       "      <td>NaN</td>\n",
       "      <td>NaN</td>\n",
       "      <td>NaN</td>\n",
       "      <td>NaN</td>\n",
       "      <td>...</td>\n",
       "      <td>1,438,074,176</td>\n",
       "      <td>45,586</td>\n",
       "      <td>187,224,178</td>\n",
       "      <td>27,131,502</td>\n",
       "      <td>1,626,778</td>\n",
       "      <td>67,243</td>\n",
       "      <td>58,310.50</td>\n",
       "      <td>7,841.00</td>\n",
       "      <td>31,375,383,870</td>\n",
       "      <td>NaN</td>\n",
       "    </tr>\n",
       "    <tr>\n",
       "      <th>1</th>\n",
       "      <td>תשעו</td>\n",
       "      <td>דרום</td>\n",
       "      <td>תמר</td>\n",
       "      <td>611202.0</td>\n",
       "      <td>יסודי ע\"ש יואב גבעתי</td>\n",
       "      <td>חלש - בינוני</td>\n",
       "      <td>פעיל</td>\n",
       "      <td>רגיל</td>\n",
       "      <td>יסודי בלבד</td>\n",
       "      <td>יהודי</td>\n",
       "      <td>...</td>\n",
       "      <td>0</td>\n",
       "      <td>0</td>\n",
       "      <td>0</td>\n",
       "      <td>0</td>\n",
       "      <td>93</td>\n",
       "      <td>0</td>\n",
       "      <td>3.5</td>\n",
       "      <td>0</td>\n",
       "      <td>2,023,496</td>\n",
       "      <td></td>\n",
       "    </tr>\n",
       "    <tr>\n",
       "      <th>2</th>\n",
       "      <td>תשעו</td>\n",
       "      <td>דרום</td>\n",
       "      <td>תמר</td>\n",
       "      <td>771105.0</td>\n",
       "      <td>מקיף עין גדי</td>\n",
       "      <td>חלש - בינוני</td>\n",
       "      <td>פעיל</td>\n",
       "      <td>רגיל</td>\n",
       "      <td>חט\"ב ועליונה</td>\n",
       "      <td>יהודי</td>\n",
       "      <td>...</td>\n",
       "      <td>0</td>\n",
       "      <td>0</td>\n",
       "      <td>0</td>\n",
       "      <td>0</td>\n",
       "      <td>186</td>\n",
       "      <td>29</td>\n",
       "      <td>9</td>\n",
       "      <td>4</td>\n",
       "      <td>6,887,618</td>\n",
       "      <td></td>\n",
       "    </tr>\n",
       "    <tr>\n",
       "      <th>3</th>\n",
       "      <td>תשעו</td>\n",
       "      <td>דרום</td>\n",
       "      <td>תל שבע</td>\n",
       "      <td>610568.0</td>\n",
       "      <td>יסודי חדש שכו 1</td>\n",
       "      <td></td>\n",
       "      <td>פעיל</td>\n",
       "      <td>רגיל</td>\n",
       "      <td>יסודי בלבד</td>\n",
       "      <td>בדואי</td>\n",
       "      <td>...</td>\n",
       "      <td>0</td>\n",
       "      <td>0</td>\n",
       "      <td>0</td>\n",
       "      <td>0</td>\n",
       "      <td>311</td>\n",
       "      <td>0</td>\n",
       "      <td>11</td>\n",
       "      <td>0</td>\n",
       "      <td>4,645,181</td>\n",
       "      <td></td>\n",
       "    </tr>\n",
       "    <tr>\n",
       "      <th>4</th>\n",
       "      <td>תשעו</td>\n",
       "      <td>דרום</td>\n",
       "      <td>תל שבע</td>\n",
       "      <td>618140.0</td>\n",
       "      <td>ג'ובראן</td>\n",
       "      <td>חלש</td>\n",
       "      <td>פעיל</td>\n",
       "      <td>רגיל</td>\n",
       "      <td>יסודי בלבד</td>\n",
       "      <td>בדואי</td>\n",
       "      <td>...</td>\n",
       "      <td>0</td>\n",
       "      <td>0</td>\n",
       "      <td>0</td>\n",
       "      <td>0</td>\n",
       "      <td>541</td>\n",
       "      <td>11</td>\n",
       "      <td>21</td>\n",
       "      <td>1</td>\n",
       "      <td>9,434,769</td>\n",
       "      <td></td>\n",
       "    </tr>\n",
       "  </tbody>\n",
       "</table>\n",
       "<p>5 rows × 38 columns</p>\n",
       "</div>"
      ],
      "text/plain": [
       "  שנת לימודים שם מחוז שם רשות  סמל מוסד               שם מוסד   חמשון טיפוח  \\\n",
       "0         NaN     NaN     NaN       NaN                   NaN           NaN   \n",
       "1        תשעו    דרום     תמר  611202.0  יסודי ע\"ש יואב גבעתי  חלש - בינוני   \n",
       "2        תשעו    דרום     תמר  771105.0          מקיף עין גדי  חלש - בינוני   \n",
       "3        תשעו    דרום  תל שבע  610568.0       יסודי חדש שכו 1                 \n",
       "4        תשעו    דרום  תל שבע  618140.0               ג'ובראן           חלש   \n",
       "\n",
       "  סטטוס מוסד סוג חינוך מוסד שלבי חינוך במוסד   מגזר  ...  \\\n",
       "0        NaN            NaN              NaN    NaN  ...   \n",
       "1       פעיל           רגיל       יסודי בלבד  יהודי  ...   \n",
       "2       פעיל           רגיל     חט\"ב ועליונה  יהודי  ...   \n",
       "3       פעיל           רגיל       יסודי בלבד  בדואי  ...   \n",
       "4       פעיל           רגיל       יסודי בלבד  בדואי  ...   \n",
       "\n",
       "   עלות שעות רשת חינוך עצמאי ומעיין חינוך תורני  שעות מוסדות פטור  \\\n",
       "0                                  1,438,074,176           45,586   \n",
       "1                                              0                0   \n",
       "2                                              0                0   \n",
       "3                                              0                0   \n",
       "4                                              0                0   \n",
       "\n",
       "  עלות שעות מוסדות פטור שירותי עזר - מוסדות פטור  \\\n",
       "0           187,224,178               27,131,502   \n",
       "1                     0                        0   \n",
       "2                     0                        0   \n",
       "3                     0                        0   \n",
       "4                     0                        0   \n",
       "\n",
       "  מספר תלמידים בפועל חינוך רגיל מספר תלמידים בפועל חינוך מיוחד  \\\n",
       "0                     1,626,778                         67,243   \n",
       "1                            93                              0   \n",
       "2                           186                             29   \n",
       "3                           311                              0   \n",
       "4                           541                             11   \n",
       "\n",
       "    מס' כיתות  חינוך רגיל   מס' כיתות  חינוך מיוחד סה\"כ תקציב שכר ותשלומים  \\\n",
       "0               58,310.50                 7,841.00          31,375,383,870   \n",
       "1                     3.5                        0               2,023,496   \n",
       "2                       9                        4               6,887,618   \n",
       "3                      11                        0               4,645,181   \n",
       "4                      21                        1               9,434,769   \n",
       "\n",
       "  הערות  \n",
       "0   NaN  \n",
       "1        \n",
       "2        \n",
       "3        \n",
       "4        \n",
       "\n",
       "[5 rows x 38 columns]"
      ]
     },
     "execution_count": 6,
     "metadata": {},
     "output_type": "execute_result"
    }
   ],
   "source": [
    "data.head()"
   ]
  },
  {
   "cell_type": "markdown",
   "metadata": {},
   "source": [
    "#### Cleaning thr data"
   ]
  },
  {
   "cell_type": "code",
   "execution_count": 7,
   "metadata": {},
   "outputs": [
    {
     "data": {
      "text/plain": [
       "שנת לימודים                                       1\n",
       "שם מחוז                                           1\n",
       "שם רשות                                           1\n",
       "סמל מוסד                                          1\n",
       "שם מוסד                                           1\n",
       "חמשון טיפוח                                       1\n",
       "סטטוס מוסד                                        1\n",
       "סוג חינוך מוסד                                    1\n",
       "שלבי חינוך במוסד                                  1\n",
       "מגזר                                              1\n",
       "סוג פיקוח                                         1\n",
       "מעמד משפטי                                        1\n",
       " שעות הוראה                                       0\n",
       "עלות  שעות הוראה                                  0\n",
       "שעות פרטניות                                      0\n",
       " שעות שהיה                                        0\n",
       "שעות הדרכה                                        0\n",
       "עלות תיקצוב שעות הדרכה                            0\n",
       "שעות איחוד משכורת                                 0\n",
       " עלות תיקצוב שעות איחוד משכורת                    0\n",
       "שעות בודדות -חנ\"מ - חופשות                        0\n",
       "עלות שעות בודדות -חנ\"מ - חופשות                   0\n",
       "שכ\"ל                                              0\n",
       "גני ילדים                                         0\n",
       "שירותי היקף                                       0\n",
       "תקציב הסעות                                       0\n",
       "פרויקטים והעברות לרשויות מקומיות ובעלויות         0\n",
       "שעות רשת חינוך עצמאי ומעיין חינוך תורני           0\n",
       " עלות שעות רשת חינוך עצמאי ומעיין חינוך תורני     0\n",
       "שעות מוסדות פטור                                  0\n",
       "עלות שעות מוסדות פטור                             0\n",
       "שירותי עזר - מוסדות פטור                          0\n",
       "מספר תלמידים בפועל חינוך רגיל                     0\n",
       "מספר תלמידים בפועל חינוך מיוחד                    0\n",
       " מס' כיתות  חינוך רגיל                            0\n",
       " מס' כיתות  חינוך מיוחד                           0\n",
       "סה\"כ תקציב שכר ותשלומים                           0\n",
       "הערות                                             1\n",
       "dtype: int64"
      ]
     },
     "execution_count": 7,
     "metadata": {},
     "output_type": "execute_result"
    }
   ],
   "source": [
    "missing_values = data.isnull().sum()\n",
    "missing_values"
   ]
  },
  {
   "cell_type": "code",
   "execution_count": 8,
   "metadata": {},
   "outputs": [
    {
     "data": {
      "text/plain": [
       "['שנת לימודים',\n",
       " 'שם מחוז',\n",
       " 'שם רשות',\n",
       " 'סמל מוסד',\n",
       " 'שם מוסד',\n",
       " 'חמשון טיפוח',\n",
       " 'סטטוס מוסד',\n",
       " 'סוג חינוך מוסד',\n",
       " 'שלבי חינוך במוסד',\n",
       " 'מגזר',\n",
       " 'סוג פיקוח',\n",
       " 'מעמד משפטי',\n",
       " ' שעות הוראה',\n",
       " 'עלות  שעות הוראה',\n",
       " 'שעות פרטניות',\n",
       " ' שעות שהיה',\n",
       " 'שעות הדרכה',\n",
       " 'עלות תיקצוב שעות הדרכה',\n",
       " 'שעות איחוד משכורת ',\n",
       " ' עלות תיקצוב שעות איחוד משכורת ',\n",
       " 'שעות בודדות -חנ\"מ - חופשות',\n",
       " 'עלות שעות בודדות -חנ\"מ - חופשות',\n",
       " 'שכ\"ל',\n",
       " 'גני ילדים',\n",
       " 'שירותי היקף',\n",
       " 'תקציב הסעות ',\n",
       " 'פרויקטים והעברות לרשויות מקומיות ובעלויות',\n",
       " 'שעות רשת חינוך עצמאי ומעיין חינוך תורני ',\n",
       " ' עלות שעות רשת חינוך עצמאי ומעיין חינוך תורני ',\n",
       " 'שעות מוסדות פטור',\n",
       " 'עלות שעות מוסדות פטור',\n",
       " 'שירותי עזר - מוסדות פטור',\n",
       " 'מספר תלמידים בפועל חינוך רגיל',\n",
       " 'מספר תלמידים בפועל חינוך מיוחד',\n",
       " \" מס' כיתות  חינוך רגיל\",\n",
       " \" מס' כיתות  חינוך מיוחד\",\n",
       " 'סה\"כ תקציב שכר ותשלומים',\n",
       " 'הערות']"
      ]
     },
     "execution_count": 8,
     "metadata": {},
     "output_type": "execute_result"
    }
   ],
   "source": [
    "df.columns.tolist()"
   ]
  },
  {
   "cell_type": "code",
   "execution_count": 9,
   "metadata": {},
   "outputs": [],
   "source": [
    "# We dropped the first row because it is the average of the numeric columns\n",
    "df = df.drop(0)\n",
    "\n",
    "# We removed all the empty values ​​from the five-care (חמשון טיפוח) column because we had no way to complete this figure without making another prediction\n",
    "# thus creating a prediction upon a prediction which could damage the model\n",
    "df = df[df['חמשון טיפוח'] != ' ']"
   ]
  },
  {
   "cell_type": "code",
   "execution_count": 10,
   "metadata": {},
   "outputs": [],
   "source": [
    "# Most of the rows in these columns were empty throughout the data, so they are irrelevant.\n",
    "\n",
    "df = df.drop(['הערות', 'סמל מוסד', 'שעות הדרכה', 'עלות תיקצוב שעות הדרכה', 'גני ילדים', 'שנת לימודים'], axis=1)"
   ]
  },
  {
   "cell_type": "code",
   "execution_count": 11,
   "metadata": {},
   "outputs": [],
   "source": [
    "# All rows in these columns were empty in the classification we wanted to predict (closed)\n",
    "# so this could only damaged our model\n",
    "            \n",
    "df = df.drop([' שעות הוראה', 'עלות  שעות הוראה', 'שעות פרטניות', ' שעות שהיה', 'שעות איחוד משכורת ', \n",
    "              ' עלות תיקצוב שעות איחוד משכורת ', 'שעות בודדות -חנ\"מ - חופשות', \n",
    "              'עלות שעות בודדות -חנ\"מ - חופשות', 'שירותי היקף', 'תקציב הסעות ', \n",
    "              'פרויקטים והעברות לרשויות מקומיות ובעלויות', 'שעות רשת חינוך עצמאי ומעיין חינוך תורני ', \n",
    "              ' עלות שעות רשת חינוך עצמאי ומעיין חינוך תורני ', 'שעות מוסדות פטור', \n",
    "              'עלות שעות מוסדות פטור', 'שירותי עזר - מוסדות פטור', 'מספר תלמידים בפועל חינוך רגיל', \n",
    "              'מספר תלמידים בפועל חינוך מיוחד', \" מס' כיתות  חינוך רגיל\", \" מס' כיתות  חינוך מיוחד\"], axis=1)"
   ]
  },
  {
   "cell_type": "code",
   "execution_count": 12,
   "metadata": {},
   "outputs": [
    {
     "data": {
      "text/plain": [
       "שם מחוז                    0\n",
       "שם רשות                    0\n",
       "שם מוסד                    0\n",
       "חמשון טיפוח                0\n",
       "סטטוס מוסד                 0\n",
       "סוג חינוך מוסד             0\n",
       "שלבי חינוך במוסד           0\n",
       "מגזר                       0\n",
       "סוג פיקוח                  0\n",
       "מעמד משפטי                 0\n",
       "שכ\"ל                       0\n",
       "סה\"כ תקציב שכר ותשלומים    0\n",
       "dtype: int64"
      ]
     },
     "execution_count": 12,
     "metadata": {},
     "output_type": "execute_result"
    }
   ],
   "source": [
    "missing_values = df.isnull().sum()\n",
    "missing_values"
   ]
  },
  {
   "cell_type": "code",
   "execution_count": 13,
   "metadata": {},
   "outputs": [
    {
     "data": {
      "text/plain": [
       "שם מחוז                    object\n",
       "שם רשות                    object\n",
       "שם מוסד                    object\n",
       "חמשון טיפוח                object\n",
       "סטטוס מוסד                 object\n",
       "סוג חינוך מוסד             object\n",
       "שלבי חינוך במוסד           object\n",
       "מגזר                       object\n",
       "סוג פיקוח                  object\n",
       "מעמד משפטי                 object\n",
       "שכ\"ל                        int64\n",
       "סה\"כ תקציב שכר ותשלומים     int64\n",
       "dtype: object"
      ]
     },
     "execution_count": 13,
     "metadata": {},
     "output_type": "execute_result"
    }
   ],
   "source": [
    "# List of column names\n",
    "columns_to_convert_int = [ 'שכ\"ל', 'סה\"כ תקציב שכר ותשלומים']\n",
    "\n",
    "# Replace empty strings with 0 and convert columns to integers\n",
    "for col in columns_to_convert_int:\n",
    "    df[col] = pd.to_numeric(df[col].str.replace(',', '', regex=False), errors='coerce').fillna(0).astype(int)\n",
    "\n",
    "df.dtypes"
   ]
  },
  {
   "cell_type": "code",
   "execution_count": 14,
   "metadata": {},
   "outputs": [
    {
     "name": "stdout",
     "output_type": "stream",
     "text": [
      "<class 'pandas.core.frame.DataFrame'>\n",
      "Index: 4223 entries, 1 to 4789\n",
      "Data columns (total 12 columns):\n",
      " #   Column                   Non-Null Count  Dtype \n",
      "---  ------                   --------------  ----- \n",
      " 0   שם מחוז                  4223 non-null   object\n",
      " 1   שם רשות                  4223 non-null   object\n",
      " 2   שם מוסד                  4223 non-null   object\n",
      " 3   חמשון טיפוח              4223 non-null   object\n",
      " 4   סטטוס מוסד               4223 non-null   object\n",
      " 5   סוג חינוך מוסד           4223 non-null   object\n",
      " 6   שלבי חינוך במוסד         4223 non-null   object\n",
      " 7   מגזר                     4223 non-null   object\n",
      " 8   סוג פיקוח                4223 non-null   object\n",
      " 9   מעמד משפטי               4223 non-null   object\n",
      " 10  שכ\"ל                     4223 non-null   int64 \n",
      " 11  סה\"כ תקציב שכר ותשלומים  4223 non-null   int64 \n",
      "dtypes: int64(2), object(10)\n",
      "memory usage: 428.9+ KB\n"
     ]
    }
   ],
   "source": [
    "df.info()"
   ]
  },
  {
   "cell_type": "code",
   "execution_count": 15,
   "metadata": {},
   "outputs": [
    {
     "data": {
      "text/html": [
       "<div>\n",
       "<style scoped>\n",
       "    .dataframe tbody tr th:only-of-type {\n",
       "        vertical-align: middle;\n",
       "    }\n",
       "\n",
       "    .dataframe tbody tr th {\n",
       "        vertical-align: top;\n",
       "    }\n",
       "\n",
       "    .dataframe thead th {\n",
       "        text-align: right;\n",
       "    }\n",
       "</style>\n",
       "<table border=\"1\" class=\"dataframe\">\n",
       "  <thead>\n",
       "    <tr style=\"text-align: right;\">\n",
       "      <th></th>\n",
       "      <th>שם מחוז</th>\n",
       "      <th>שם רשות</th>\n",
       "      <th>שם מוסד</th>\n",
       "      <th>חמשון טיפוח</th>\n",
       "      <th>סטטוס מוסד</th>\n",
       "      <th>סוג חינוך מוסד</th>\n",
       "      <th>שלבי חינוך במוסד</th>\n",
       "      <th>מגזר</th>\n",
       "      <th>סוג פיקוח</th>\n",
       "      <th>מעמד משפטי</th>\n",
       "      <th>שכ\"ל</th>\n",
       "      <th>סה\"כ תקציב שכר ותשלומים</th>\n",
       "    </tr>\n",
       "  </thead>\n",
       "  <tbody>\n",
       "    <tr>\n",
       "      <th>1</th>\n",
       "      <td>דרום</td>\n",
       "      <td>תמר</td>\n",
       "      <td>יסודי ע\"ש יואב גבעתי</td>\n",
       "      <td>חלש - בינוני</td>\n",
       "      <td>פעיל</td>\n",
       "      <td>רגיל</td>\n",
       "      <td>יסודי בלבד</td>\n",
       "      <td>יהודי</td>\n",
       "      <td>ממלכתי</td>\n",
       "      <td>רשמי</td>\n",
       "      <td>0</td>\n",
       "      <td>2023496</td>\n",
       "    </tr>\n",
       "    <tr>\n",
       "      <th>2</th>\n",
       "      <td>דרום</td>\n",
       "      <td>תמר</td>\n",
       "      <td>מקיף עין גדי</td>\n",
       "      <td>חלש - בינוני</td>\n",
       "      <td>פעיל</td>\n",
       "      <td>רגיל</td>\n",
       "      <td>חט\"ב ועליונה</td>\n",
       "      <td>יהודי</td>\n",
       "      <td>ממלכתי</td>\n",
       "      <td>רשמי</td>\n",
       "      <td>4225471</td>\n",
       "      <td>6887618</td>\n",
       "    </tr>\n",
       "    <tr>\n",
       "      <th>4</th>\n",
       "      <td>דרום</td>\n",
       "      <td>תל שבע</td>\n",
       "      <td>ג'ובראן</td>\n",
       "      <td>חלש</td>\n",
       "      <td>פעיל</td>\n",
       "      <td>רגיל</td>\n",
       "      <td>יסודי בלבד</td>\n",
       "      <td>בדואי</td>\n",
       "      <td>ממלכתי</td>\n",
       "      <td>רשמי</td>\n",
       "      <td>0</td>\n",
       "      <td>9434769</td>\n",
       "    </tr>\n",
       "    <tr>\n",
       "      <th>5</th>\n",
       "      <td>דרום</td>\n",
       "      <td>תל שבע</td>\n",
       "      <td>אבו בכר א'</td>\n",
       "      <td>חלש</td>\n",
       "      <td>פעיל</td>\n",
       "      <td>רגיל</td>\n",
       "      <td>יסודי בלבד</td>\n",
       "      <td>בדואי</td>\n",
       "      <td>ממלכתי</td>\n",
       "      <td>רשמי</td>\n",
       "      <td>0</td>\n",
       "      <td>9082690</td>\n",
       "    </tr>\n",
       "    <tr>\n",
       "      <th>6</th>\n",
       "      <td>דרום</td>\n",
       "      <td>תל שבע</td>\n",
       "      <td>אבו בכר ב'</td>\n",
       "      <td>חלש</td>\n",
       "      <td>פעיל</td>\n",
       "      <td>רגיל</td>\n",
       "      <td>יסודי בלבד</td>\n",
       "      <td>בדואי</td>\n",
       "      <td>ממלכתי</td>\n",
       "      <td>רשמי</td>\n",
       "      <td>0</td>\n",
       "      <td>9107519</td>\n",
       "    </tr>\n",
       "  </tbody>\n",
       "</table>\n",
       "</div>"
      ],
      "text/plain": [
       "  שם מחוז שם רשות               שם מוסד   חמשון טיפוח סטטוס מוסד  \\\n",
       "1    דרום     תמר  יסודי ע\"ש יואב גבעתי  חלש - בינוני       פעיל   \n",
       "2    דרום     תמר          מקיף עין גדי  חלש - בינוני       פעיל   \n",
       "4    דרום  תל שבע               ג'ובראן           חלש       פעיל   \n",
       "5    דרום  תל שבע            אבו בכר א'           חלש       פעיל   \n",
       "6    דרום  תל שבע            אבו בכר ב'           חלש       פעיל   \n",
       "\n",
       "  סוג חינוך מוסד שלבי חינוך במוסד   מגזר סוג פיקוח מעמד משפטי     שכ\"ל  \\\n",
       "1           רגיל       יסודי בלבד  יהודי    ממלכתי       רשמי        0   \n",
       "2           רגיל     חט\"ב ועליונה  יהודי    ממלכתי       רשמי  4225471   \n",
       "4           רגיל       יסודי בלבד  בדואי    ממלכתי       רשמי        0   \n",
       "5           רגיל       יסודי בלבד  בדואי    ממלכתי       רשמי        0   \n",
       "6           רגיל       יסודי בלבד  בדואי    ממלכתי       רשמי        0   \n",
       "\n",
       "   סה\"כ תקציב שכר ותשלומים  \n",
       "1                  2023496  \n",
       "2                  6887618  \n",
       "4                  9434769  \n",
       "5                  9082690  \n",
       "6                  9107519  "
      ]
     },
     "execution_count": 15,
     "metadata": {},
     "output_type": "execute_result"
    }
   ],
   "source": [
    "df.head(5)"
   ]
  },
  {
   "cell_type": "code",
   "execution_count": 16,
   "metadata": {},
   "outputs": [
    {
     "name": "stdout",
     "output_type": "stream",
     "text": [
      "קורלציה (pandas): 0.7903338466387198\n"
     ]
    }
   ],
   "source": [
    "# Checking correlation between two columns\n",
    "correlation = df['סה\"כ תקציב שכר ותשלומים'].corr(df['שכ\"ל'])\n",
    "print(f\"קורלציה (pandas): {correlation}\")"
   ]
  },
  {
   "cell_type": "markdown",
   "metadata": {},
   "source": [
    "#### one hot encoder & lable encoder"
   ]
  },
  {
   "cell_type": "markdown",
   "metadata": {},
   "source": [
    "We tested how much normalization/standardization or outlier treatment would affect the normal columns we have in the data (tuition, budget, etc.). And although we didn't show it to you in this document, the effects were radical. Normalization/standardization or outlier treatment completely destroyed the ability of all the models we tried to divide the data, they dramatically damaged the value of the silhouette and the other metrics, so even though it would have made more sense to perform these operations on the numerical columns we have in the data, we decided to leave them in their original form."
   ]
  },
  {
   "cell_type": "code",
   "execution_count": null,
   "metadata": {},
   "outputs": [
    {
     "name": "stdout",
     "output_type": "stream",
     "text": [
      "Shape after limited OneHot: (4223, 37)\n"
     ]
    }
   ],
   "source": [
    "### CODE BY GPT###\n",
    "categorical_features = [\"שם מחוז\", \"שם רשות\", \"שם מוסד\", \n",
    "                        \"סוג חינוך מוסד\", \"שלבי חינוך במוסד\", \n",
    "                        \"מגזר\", \"סוג פיקוח\", \"מעמד משפטי\"]\n",
    "\n",
    "# Label Encoding לעמודה \"חמשון טיפוח\" ולעמודה \"סטטוס מוסד\"\n",
    "label_encoder = LabelEncoder()\n",
    "df[\"חמשון טיפוח\"] = label_encoder.fit_transform(df[\"חמשון טיפוח\"])\n",
    "df[\"סטטוס מוסד\"] = label_encoder.fit_transform(df[\"סטטוס מוסד\"])\n",
    "\n",
    "one_hot_encoder = OneHotEncoder(\n",
    "    sparse_output=False, \n",
    "    handle_unknown=\"infrequent_if_exist\",  # Rare categories will be merged\n",
    "    max_categories=5  # Limit the number of categories per column to 5\n",
    ")\n",
    "\n",
    "column_transformer = ColumnTransformer(\n",
    "    transformers=[\n",
    "        (\"onehot\", one_hot_encoder, categorical_features)\n",
    "    ],\n",
    "    remainder=\"passthrough\"  # The remaining columns will be moved as is\n",
    ")\n",
    "\n",
    "# Convert to DataFrame\n",
    "X_transformed = column_transformer.fit_transform(df)\n",
    "\n",
    "feature_names = column_transformer.get_feature_names_out()\n",
    "X_transformed = pd.DataFrame(X_transformed, columns=feature_names)\n",
    "\n",
    "print(\"Shape after limited OneHot:\", X_transformed.shape)\n",
    "#####"
   ]
  },
  {
   "cell_type": "code",
   "execution_count": 18,
   "metadata": {},
   "outputs": [
    {
     "name": "stdout",
     "output_type": "stream",
     "text": [
      "Shape after dropping columns with many NaNs: (4223, 37)\n"
     ]
    }
   ],
   "source": [
    "# Filter columns with more than 50% empty values\n",
    "# We will check for each column the ratio of empty values ​​.mean() isnull\n",
    "# and if it is >= 0.5 the column is dropped\n",
    "\n",
    "X_transformed = X_transformed.loc[:, X_transformed.isnull().mean() < 0.5]\n",
    "print(\"Shape after dropping columns with many NaNs:\", X_transformed.shape)\n"
   ]
  },
  {
   "cell_type": "code",
   "execution_count": 19,
   "metadata": {},
   "outputs": [
    {
     "name": "stdout",
     "output_type": "stream",
     "text": [
      "Shape before dropping highly correlated columns: (4223, 37)\n",
      "Shape after dropping highly correlated columns: (4223, 34)\n"
     ]
    }
   ],
   "source": [
    "# Filter columns with high correlation\n",
    "# First focus only on numeric columns (correlation is calculated only on numbers)\n",
    "\n",
    "numeric_cols = X_transformed.select_dtypes(include=[np.number]).columns\n",
    "\n",
    "sample_size = min(10000, len(X_transformed))\n",
    "X_sample = X_transformed[numeric_cols].sample(n=sample_size, random_state=42)\n",
    "\n",
    "# Compute absolute correlation matrix\n",
    "corr_matrix = X_sample.corr().abs()\n",
    "\n",
    "# We will take only the upper triangle of the matrix (without the diagonal)\n",
    "upper_tri = corr_matrix.where(np.triu(np.ones(corr_matrix.shape), k=1).astype(bool))\n",
    "\n",
    "# Collection of columns that have a correlation above 0.75 with another column\n",
    "to_drop = [column for column in upper_tri.columns if any(upper_tri[column] > 0.75)]\n",
    "\n",
    "print(\"Shape before dropping highly correlated columns:\", X_transformed.shape)\n",
    "X_transformed = X_transformed.drop(columns=to_drop, errors='ignore')\n",
    "print(\"Shape after dropping highly correlated columns:\", X_transformed.shape)\n"
   ]
  },
  {
   "cell_type": "code",
   "execution_count": 20,
   "metadata": {},
   "outputs": [
    {
     "data": {
      "text/html": [
       "<div>\n",
       "<style scoped>\n",
       "    .dataframe tbody tr th:only-of-type {\n",
       "        vertical-align: middle;\n",
       "    }\n",
       "\n",
       "    .dataframe tbody tr th {\n",
       "        vertical-align: top;\n",
       "    }\n",
       "\n",
       "    .dataframe thead th {\n",
       "        text-align: right;\n",
       "    }\n",
       "</style>\n",
       "<table border=\"1\" class=\"dataframe\">\n",
       "  <thead>\n",
       "    <tr style=\"text-align: right;\">\n",
       "      <th></th>\n",
       "      <th>onehot__שם מחוז_ירושלים</th>\n",
       "      <th>onehot__שם מחוז_מרכז</th>\n",
       "      <th>onehot__שם מחוז_צפון</th>\n",
       "      <th>onehot__שם מחוז_תל אביב</th>\n",
       "      <th>onehot__שם מחוז_infrequent_sklearn</th>\n",
       "      <th>onehot__שם רשות_אשדוד</th>\n",
       "      <th>onehot__שם רשות_בני ברק</th>\n",
       "      <th>onehot__שם רשות_ירושלים</th>\n",
       "      <th>onehot__שם רשות_תל אביב-יפו</th>\n",
       "      <th>onehot__שם רשות_infrequent_sklearn</th>\n",
       "      <th>...</th>\n",
       "      <th>onehot__מגזר_infrequent_sklearn</th>\n",
       "      <th>onehot__סוג פיקוח_חרדי</th>\n",
       "      <th>onehot__סוג פיקוח_ממלכתי</th>\n",
       "      <th>onehot__סוג פיקוח_ממלכתי דתי</th>\n",
       "      <th>onehot__מעמד משפטי_מוכר</th>\n",
       "      <th>onehot__מעמד משפטי_פטור</th>\n",
       "      <th>onehot__מעמד משפטי_תרבותי-ייחודי</th>\n",
       "      <th>remainder__חמשון טיפוח</th>\n",
       "      <th>remainder__סטטוס מוסד</th>\n",
       "      <th>remainder__שכ\"ל</th>\n",
       "    </tr>\n",
       "  </thead>\n",
       "  <tbody>\n",
       "    <tr>\n",
       "      <th>0</th>\n",
       "      <td>0.0</td>\n",
       "      <td>0.0</td>\n",
       "      <td>0.0</td>\n",
       "      <td>0.0</td>\n",
       "      <td>1.0</td>\n",
       "      <td>0.0</td>\n",
       "      <td>0.0</td>\n",
       "      <td>0.0</td>\n",
       "      <td>0.0</td>\n",
       "      <td>1.0</td>\n",
       "      <td>...</td>\n",
       "      <td>0.0</td>\n",
       "      <td>0.0</td>\n",
       "      <td>1.0</td>\n",
       "      <td>0.0</td>\n",
       "      <td>0.0</td>\n",
       "      <td>0.0</td>\n",
       "      <td>0.0</td>\n",
       "      <td>4.0</td>\n",
       "      <td>1.0</td>\n",
       "      <td>0.0</td>\n",
       "    </tr>\n",
       "    <tr>\n",
       "      <th>1</th>\n",
       "      <td>0.0</td>\n",
       "      <td>0.0</td>\n",
       "      <td>0.0</td>\n",
       "      <td>0.0</td>\n",
       "      <td>1.0</td>\n",
       "      <td>0.0</td>\n",
       "      <td>0.0</td>\n",
       "      <td>0.0</td>\n",
       "      <td>0.0</td>\n",
       "      <td>1.0</td>\n",
       "      <td>...</td>\n",
       "      <td>0.0</td>\n",
       "      <td>0.0</td>\n",
       "      <td>1.0</td>\n",
       "      <td>0.0</td>\n",
       "      <td>0.0</td>\n",
       "      <td>0.0</td>\n",
       "      <td>0.0</td>\n",
       "      <td>4.0</td>\n",
       "      <td>1.0</td>\n",
       "      <td>4225471.0</td>\n",
       "    </tr>\n",
       "    <tr>\n",
       "      <th>2</th>\n",
       "      <td>0.0</td>\n",
       "      <td>0.0</td>\n",
       "      <td>0.0</td>\n",
       "      <td>0.0</td>\n",
       "      <td>1.0</td>\n",
       "      <td>0.0</td>\n",
       "      <td>0.0</td>\n",
       "      <td>0.0</td>\n",
       "      <td>0.0</td>\n",
       "      <td>1.0</td>\n",
       "      <td>...</td>\n",
       "      <td>0.0</td>\n",
       "      <td>0.0</td>\n",
       "      <td>1.0</td>\n",
       "      <td>0.0</td>\n",
       "      <td>0.0</td>\n",
       "      <td>0.0</td>\n",
       "      <td>0.0</td>\n",
       "      <td>3.0</td>\n",
       "      <td>1.0</td>\n",
       "      <td>0.0</td>\n",
       "    </tr>\n",
       "    <tr>\n",
       "      <th>3</th>\n",
       "      <td>0.0</td>\n",
       "      <td>0.0</td>\n",
       "      <td>0.0</td>\n",
       "      <td>0.0</td>\n",
       "      <td>1.0</td>\n",
       "      <td>0.0</td>\n",
       "      <td>0.0</td>\n",
       "      <td>0.0</td>\n",
       "      <td>0.0</td>\n",
       "      <td>1.0</td>\n",
       "      <td>...</td>\n",
       "      <td>0.0</td>\n",
       "      <td>0.0</td>\n",
       "      <td>1.0</td>\n",
       "      <td>0.0</td>\n",
       "      <td>0.0</td>\n",
       "      <td>0.0</td>\n",
       "      <td>0.0</td>\n",
       "      <td>3.0</td>\n",
       "      <td>1.0</td>\n",
       "      <td>0.0</td>\n",
       "    </tr>\n",
       "    <tr>\n",
       "      <th>4</th>\n",
       "      <td>0.0</td>\n",
       "      <td>0.0</td>\n",
       "      <td>0.0</td>\n",
       "      <td>0.0</td>\n",
       "      <td>1.0</td>\n",
       "      <td>0.0</td>\n",
       "      <td>0.0</td>\n",
       "      <td>0.0</td>\n",
       "      <td>0.0</td>\n",
       "      <td>1.0</td>\n",
       "      <td>...</td>\n",
       "      <td>0.0</td>\n",
       "      <td>0.0</td>\n",
       "      <td>1.0</td>\n",
       "      <td>0.0</td>\n",
       "      <td>0.0</td>\n",
       "      <td>0.0</td>\n",
       "      <td>0.0</td>\n",
       "      <td>3.0</td>\n",
       "      <td>1.0</td>\n",
       "      <td>0.0</td>\n",
       "    </tr>\n",
       "    <tr>\n",
       "      <th>...</th>\n",
       "      <td>...</td>\n",
       "      <td>...</td>\n",
       "      <td>...</td>\n",
       "      <td>...</td>\n",
       "      <td>...</td>\n",
       "      <td>...</td>\n",
       "      <td>...</td>\n",
       "      <td>...</td>\n",
       "      <td>...</td>\n",
       "      <td>...</td>\n",
       "      <td>...</td>\n",
       "      <td>...</td>\n",
       "      <td>...</td>\n",
       "      <td>...</td>\n",
       "      <td>...</td>\n",
       "      <td>...</td>\n",
       "      <td>...</td>\n",
       "      <td>...</td>\n",
       "      <td>...</td>\n",
       "      <td>...</td>\n",
       "      <td>...</td>\n",
       "    </tr>\n",
       "    <tr>\n",
       "      <th>4218</th>\n",
       "      <td>1.0</td>\n",
       "      <td>0.0</td>\n",
       "      <td>0.0</td>\n",
       "      <td>0.0</td>\n",
       "      <td>0.0</td>\n",
       "      <td>0.0</td>\n",
       "      <td>0.0</td>\n",
       "      <td>0.0</td>\n",
       "      <td>0.0</td>\n",
       "      <td>1.0</td>\n",
       "      <td>...</td>\n",
       "      <td>0.0</td>\n",
       "      <td>0.0</td>\n",
       "      <td>0.0</td>\n",
       "      <td>1.0</td>\n",
       "      <td>1.0</td>\n",
       "      <td>0.0</td>\n",
       "      <td>0.0</td>\n",
       "      <td>1.0</td>\n",
       "      <td>1.0</td>\n",
       "      <td>5005917.0</td>\n",
       "    </tr>\n",
       "    <tr>\n",
       "      <th>4219</th>\n",
       "      <td>1.0</td>\n",
       "      <td>0.0</td>\n",
       "      <td>0.0</td>\n",
       "      <td>0.0</td>\n",
       "      <td>0.0</td>\n",
       "      <td>0.0</td>\n",
       "      <td>0.0</td>\n",
       "      <td>0.0</td>\n",
       "      <td>0.0</td>\n",
       "      <td>1.0</td>\n",
       "      <td>...</td>\n",
       "      <td>0.0</td>\n",
       "      <td>0.0</td>\n",
       "      <td>0.0</td>\n",
       "      <td>1.0</td>\n",
       "      <td>0.0</td>\n",
       "      <td>0.0</td>\n",
       "      <td>0.0</td>\n",
       "      <td>1.0</td>\n",
       "      <td>1.0</td>\n",
       "      <td>8041335.0</td>\n",
       "    </tr>\n",
       "    <tr>\n",
       "      <th>4220</th>\n",
       "      <td>1.0</td>\n",
       "      <td>0.0</td>\n",
       "      <td>0.0</td>\n",
       "      <td>0.0</td>\n",
       "      <td>0.0</td>\n",
       "      <td>0.0</td>\n",
       "      <td>0.0</td>\n",
       "      <td>0.0</td>\n",
       "      <td>0.0</td>\n",
       "      <td>1.0</td>\n",
       "      <td>...</td>\n",
       "      <td>0.0</td>\n",
       "      <td>0.0</td>\n",
       "      <td>1.0</td>\n",
       "      <td>0.0</td>\n",
       "      <td>0.0</td>\n",
       "      <td>0.0</td>\n",
       "      <td>0.0</td>\n",
       "      <td>4.0</td>\n",
       "      <td>1.0</td>\n",
       "      <td>0.0</td>\n",
       "    </tr>\n",
       "    <tr>\n",
       "      <th>4221</th>\n",
       "      <td>1.0</td>\n",
       "      <td>0.0</td>\n",
       "      <td>0.0</td>\n",
       "      <td>0.0</td>\n",
       "      <td>0.0</td>\n",
       "      <td>0.0</td>\n",
       "      <td>0.0</td>\n",
       "      <td>0.0</td>\n",
       "      <td>0.0</td>\n",
       "      <td>1.0</td>\n",
       "      <td>...</td>\n",
       "      <td>0.0</td>\n",
       "      <td>0.0</td>\n",
       "      <td>1.0</td>\n",
       "      <td>0.0</td>\n",
       "      <td>0.0</td>\n",
       "      <td>0.0</td>\n",
       "      <td>0.0</td>\n",
       "      <td>4.0</td>\n",
       "      <td>1.0</td>\n",
       "      <td>6484945.0</td>\n",
       "    </tr>\n",
       "    <tr>\n",
       "      <th>4222</th>\n",
       "      <td>1.0</td>\n",
       "      <td>0.0</td>\n",
       "      <td>0.0</td>\n",
       "      <td>0.0</td>\n",
       "      <td>0.0</td>\n",
       "      <td>0.0</td>\n",
       "      <td>0.0</td>\n",
       "      <td>0.0</td>\n",
       "      <td>0.0</td>\n",
       "      <td>1.0</td>\n",
       "      <td>...</td>\n",
       "      <td>0.0</td>\n",
       "      <td>0.0</td>\n",
       "      <td>1.0</td>\n",
       "      <td>0.0</td>\n",
       "      <td>0.0</td>\n",
       "      <td>0.0</td>\n",
       "      <td>0.0</td>\n",
       "      <td>4.0</td>\n",
       "      <td>1.0</td>\n",
       "      <td>0.0</td>\n",
       "    </tr>\n",
       "  </tbody>\n",
       "</table>\n",
       "<p>4223 rows × 34 columns</p>\n",
       "</div>"
      ],
      "text/plain": [
       "      onehot__שם מחוז_ירושלים  onehot__שם מחוז_מרכז  onehot__שם מחוז_צפון  \\\n",
       "0                         0.0                   0.0                   0.0   \n",
       "1                         0.0                   0.0                   0.0   \n",
       "2                         0.0                   0.0                   0.0   \n",
       "3                         0.0                   0.0                   0.0   \n",
       "4                         0.0                   0.0                   0.0   \n",
       "...                       ...                   ...                   ...   \n",
       "4218                      1.0                   0.0                   0.0   \n",
       "4219                      1.0                   0.0                   0.0   \n",
       "4220                      1.0                   0.0                   0.0   \n",
       "4221                      1.0                   0.0                   0.0   \n",
       "4222                      1.0                   0.0                   0.0   \n",
       "\n",
       "      onehot__שם מחוז_תל אביב  onehot__שם מחוז_infrequent_sklearn  \\\n",
       "0                         0.0                                 1.0   \n",
       "1                         0.0                                 1.0   \n",
       "2                         0.0                                 1.0   \n",
       "3                         0.0                                 1.0   \n",
       "4                         0.0                                 1.0   \n",
       "...                       ...                                 ...   \n",
       "4218                      0.0                                 0.0   \n",
       "4219                      0.0                                 0.0   \n",
       "4220                      0.0                                 0.0   \n",
       "4221                      0.0                                 0.0   \n",
       "4222                      0.0                                 0.0   \n",
       "\n",
       "      onehot__שם רשות_אשדוד  onehot__שם רשות_בני ברק  onehot__שם רשות_ירושלים  \\\n",
       "0                       0.0                      0.0                      0.0   \n",
       "1                       0.0                      0.0                      0.0   \n",
       "2                       0.0                      0.0                      0.0   \n",
       "3                       0.0                      0.0                      0.0   \n",
       "4                       0.0                      0.0                      0.0   \n",
       "...                     ...                      ...                      ...   \n",
       "4218                    0.0                      0.0                      0.0   \n",
       "4219                    0.0                      0.0                      0.0   \n",
       "4220                    0.0                      0.0                      0.0   \n",
       "4221                    0.0                      0.0                      0.0   \n",
       "4222                    0.0                      0.0                      0.0   \n",
       "\n",
       "      onehot__שם רשות_תל אביב-יפו  onehot__שם רשות_infrequent_sklearn  ...  \\\n",
       "0                             0.0                                 1.0  ...   \n",
       "1                             0.0                                 1.0  ...   \n",
       "2                             0.0                                 1.0  ...   \n",
       "3                             0.0                                 1.0  ...   \n",
       "4                             0.0                                 1.0  ...   \n",
       "...                           ...                                 ...  ...   \n",
       "4218                          0.0                                 1.0  ...   \n",
       "4219                          0.0                                 1.0  ...   \n",
       "4220                          0.0                                 1.0  ...   \n",
       "4221                          0.0                                 1.0  ...   \n",
       "4222                          0.0                                 1.0  ...   \n",
       "\n",
       "      onehot__מגזר_infrequent_sklearn  onehot__סוג פיקוח_חרדי  \\\n",
       "0                                 0.0                     0.0   \n",
       "1                                 0.0                     0.0   \n",
       "2                                 0.0                     0.0   \n",
       "3                                 0.0                     0.0   \n",
       "4                                 0.0                     0.0   \n",
       "...                               ...                     ...   \n",
       "4218                              0.0                     0.0   \n",
       "4219                              0.0                     0.0   \n",
       "4220                              0.0                     0.0   \n",
       "4221                              0.0                     0.0   \n",
       "4222                              0.0                     0.0   \n",
       "\n",
       "      onehot__סוג פיקוח_ממלכתי  onehot__סוג פיקוח_ממלכתי דתי  \\\n",
       "0                          1.0                           0.0   \n",
       "1                          1.0                           0.0   \n",
       "2                          1.0                           0.0   \n",
       "3                          1.0                           0.0   \n",
       "4                          1.0                           0.0   \n",
       "...                        ...                           ...   \n",
       "4218                       0.0                           1.0   \n",
       "4219                       0.0                           1.0   \n",
       "4220                       1.0                           0.0   \n",
       "4221                       1.0                           0.0   \n",
       "4222                       1.0                           0.0   \n",
       "\n",
       "      onehot__מעמד משפטי_מוכר  onehot__מעמד משפטי_פטור  \\\n",
       "0                         0.0                      0.0   \n",
       "1                         0.0                      0.0   \n",
       "2                         0.0                      0.0   \n",
       "3                         0.0                      0.0   \n",
       "4                         0.0                      0.0   \n",
       "...                       ...                      ...   \n",
       "4218                      1.0                      0.0   \n",
       "4219                      0.0                      0.0   \n",
       "4220                      0.0                      0.0   \n",
       "4221                      0.0                      0.0   \n",
       "4222                      0.0                      0.0   \n",
       "\n",
       "      onehot__מעמד משפטי_תרבותי-ייחודי  remainder__חמשון טיפוח  \\\n",
       "0                                  0.0                     4.0   \n",
       "1                                  0.0                     4.0   \n",
       "2                                  0.0                     3.0   \n",
       "3                                  0.0                     3.0   \n",
       "4                                  0.0                     3.0   \n",
       "...                                ...                     ...   \n",
       "4218                               0.0                     1.0   \n",
       "4219                               0.0                     1.0   \n",
       "4220                               0.0                     4.0   \n",
       "4221                               0.0                     4.0   \n",
       "4222                               0.0                     4.0   \n",
       "\n",
       "      remainder__סטטוס מוסד  remainder__שכ\"ל  \n",
       "0                       1.0              0.0  \n",
       "1                       1.0        4225471.0  \n",
       "2                       1.0              0.0  \n",
       "3                       1.0              0.0  \n",
       "4                       1.0              0.0  \n",
       "...                     ...              ...  \n",
       "4218                    1.0        5005917.0  \n",
       "4219                    1.0        8041335.0  \n",
       "4220                    1.0              0.0  \n",
       "4221                    1.0        6484945.0  \n",
       "4222                    1.0              0.0  \n",
       "\n",
       "[4223 rows x 34 columns]"
      ]
     },
     "execution_count": 20,
     "metadata": {},
     "output_type": "execute_result"
    }
   ],
   "source": [
    "# Display of all final columns after filtering\n",
    "X_transformed"
   ]
  },
  {
   "cell_type": "markdown",
   "metadata": {},
   "source": [
    "### Models"
   ]
  },
  {
   "cell_type": "markdown",
   "metadata": {},
   "source": [
    "We tryied the models: DBSCAN, K- Means, Gaussian Mixture Model (GMM) & Agglomerative Clustering "
   ]
  },
  {
   "cell_type": "markdown",
   "metadata": {},
   "source": [
    "##### DBSCAN"
   ]
  },
  {
   "cell_type": "code",
   "execution_count": 21,
   "metadata": {},
   "outputs": [
    {
     "name": "stdout",
     "output_type": "stream",
     "text": [
      "Silhouette Score for dbscan: 0.5175979689931769\n"
     ]
    }
   ],
   "source": [
    "dbscan = DBSCAN(eps=0.3, min_samples=2)\n",
    "dbscan_labels = dbscan.fit_predict(X_transformed)\n",
    "dbscan_silhouette = silhouette_score(X_transformed, dbscan_labels)\n",
    "print(f\"Silhouette Score for dbscan: {dbscan_silhouette}\")"
   ]
  },
  {
   "cell_type": "markdown",
   "metadata": {},
   "source": [
    "##### Internal Metrics"
   ]
  },
  {
   "cell_type": "code",
   "execution_count": 22,
   "metadata": {},
   "outputs": [
    {
     "name": "stdout",
     "output_type": "stream",
     "text": [
      "Davies-Bouldin Index (DBI): 0.8427485869517956\n"
     ]
    }
   ],
   "source": [
    "# Davies-Bouldin Index (DBI)\n",
    "\n",
    "dbscan_dbi_score = davies_bouldin_score(X_transformed, dbscan_labels)\n",
    "print(f\"Davies-Bouldin Index (DBI): {dbscan_dbi_score}\")"
   ]
  },
  {
   "cell_type": "code",
   "execution_count": 23,
   "metadata": {},
   "outputs": [
    {
     "name": "stdout",
     "output_type": "stream",
     "text": [
      "Calinski-Harabasz Index (Variance Ratio Criterion): 10.43369933110624\n"
     ]
    }
   ],
   "source": [
    "# Calinski-Harabasz\n",
    "\n",
    "dbscan_ch_score = calinski_harabasz_score(X_transformed, dbscan_labels)\n",
    "print(f\"Calinski-Harabasz Index (Variance Ratio Criterion): {dbscan_ch_score}\")\n"
   ]
  },
  {
   "cell_type": "code",
   "execution_count": null,
   "metadata": {},
   "outputs": [
    {
     "name": "stdout",
     "output_type": "stream",
     "text": [
      "Compactness: 7286581913.288655\n",
      "Separation: 1.0\n"
     ]
    }
   ],
   "source": [
    "### CODE BY GPT###\n",
    "# Compactness and Separation\n",
    "\n",
    "dbscan_compactness = 0\n",
    "for cluster in np.unique(dbscan_labels):\n",
    "    cluster_points = X_transformed[dbscan_labels == cluster]\n",
    "    cluster_center = np.mean(cluster_points, axis=0)\n",
    "    dbscan_compactness += np.sum(np.linalg.norm(cluster_points - cluster_center, axis=1))\n",
    "\n",
    "# חישוב Separation\n",
    "centroids = [np.mean(X_transformed[dbscan_labels == cluster], axis=0) for cluster in np.unique(dbscan_labels)]\n",
    "dbscan_separation = np.min([np.linalg.norm(c1 - c2) for i, c1 in enumerate(centroids) for j, c2 in enumerate(centroids) if i != j])\n",
    "\n",
    "print(f\"Compactness: {dbscan_compactness}\")\n",
    "print(f\"Separation: {dbscan_separation}\")\n",
    "###"
   ]
  },
  {
   "cell_type": "markdown",
   "metadata": {},
   "source": [
    "From the examination of all internal metrics, we see that this model is not good enough, so we did not continue with further testing and cluster analysis."
   ]
  },
  {
   "cell_type": "markdown",
   "metadata": {},
   "source": [
    "#### ------------------> Next model"
   ]
  },
  {
   "cell_type": "markdown",
   "metadata": {},
   "source": [
    "#### Gaussian Mixture Model (GMM)"
   ]
  },
  {
   "cell_type": "code",
   "execution_count": 25,
   "metadata": {},
   "outputs": [
    {
     "name": "stdout",
     "output_type": "stream",
     "text": [
      "Silhouette Score for GMM: 0.6905252979740067\n"
     ]
    }
   ],
   "source": [
    "gmm = GaussianMixture(n_components=2, random_state=42)\n",
    "gmm_labels = gmm.fit_predict(X_transformed)\n",
    "gmm_silhouette = silhouette_score(X_transformed, gmm_labels)\n",
    "print(f\"Silhouette Score for GMM: {gmm_silhouette}\")"
   ]
  },
  {
   "cell_type": "markdown",
   "metadata": {},
   "source": [
    "##### Internal Metrics"
   ]
  },
  {
   "cell_type": "code",
   "execution_count": 26,
   "metadata": {},
   "outputs": [
    {
     "name": "stdout",
     "output_type": "stream",
     "text": [
      "Davies-Bouldin Index (DBI): 0.6766219238619927\n"
     ]
    }
   ],
   "source": [
    "# Davies-Bouldin Index (DBI)\n",
    "gmm_dbi_score = davies_bouldin_score(X_transformed, gmm_labels)\n",
    "print(f\"Davies-Bouldin Index (DBI): {gmm_dbi_score}\")"
   ]
  },
  {
   "cell_type": "code",
   "execution_count": 27,
   "metadata": {},
   "outputs": [
    {
     "name": "stdout",
     "output_type": "stream",
     "text": [
      "Calinski-Harabasz Index (Variance Ratio Criterion): 4179.151851350651\n"
     ]
    }
   ],
   "source": [
    "# Calinski-Harabasz Index (Variance Ratio Criterion)\n",
    "gmm_ch_score = calinski_harabasz_score(X_transformed, gmm_labels)\n",
    "print(f\"Calinski-Harabasz Index (Variance Ratio Criterion): {gmm_ch_score}\")"
   ]
  },
  {
   "cell_type": "code",
   "execution_count": null,
   "metadata": {},
   "outputs": [
    {
     "name": "stdout",
     "output_type": "stream",
     "text": [
      "Compactness: 5890035921.501702\n",
      "Separation: 7031094.968635938\n"
     ]
    }
   ],
   "source": [
    "### CODE BY GPT###\n",
    "# Compactness & Separation\n",
    "gmm_compactness = 0\n",
    "for cluster in np.unique(gmm_labels):\n",
    "    cluster_points = X_transformed[gmm_labels == cluster]\n",
    "    cluster_center = np.mean(cluster_points, axis=0)\n",
    "    gmm_compactness += np.sum(np.linalg.norm(cluster_points - cluster_center, axis=1))\n",
    "\n",
    "# חישוב Separation\n",
    "centroids = [np.mean(X_transformed[gmm_labels == cluster], axis=0) for cluster in np.unique(gmm_labels)]\n",
    "gmm_separation = np.min([np.linalg.norm(c1 - c2) for i, c1 in enumerate(centroids) for j, c2 in enumerate(centroids) if i != j])\n",
    "\n",
    "print(f\"Compactness: {gmm_compactness}\")\n",
    "print(f\"Separation: {gmm_separation}\")\n",
    "####\n"
   ]
  },
  {
   "cell_type": "markdown",
   "metadata": {},
   "source": [
    "##### This model seemed interesting to us, its metrics were better than those of DBSCAN, so we continued to investigate it."
   ]
  },
  {
   "cell_type": "markdown",
   "metadata": {},
   "source": [
    "#### feature importances"
   ]
  },
  {
   "cell_type": "code",
   "execution_count": 29,
   "metadata": {},
   "outputs": [
    {
     "data": {
      "text/plain": [
       "array([0.        , 0.        , 0.        , 0.        , 0.        ,\n",
       "       0.        , 0.        , 0.        , 0.        , 0.        ,\n",
       "       0.        , 0.        , 0.        , 0.        , 0.        ,\n",
       "       0.        , 0.        , 0.04756989, 0.        , 0.00258561,\n",
       "       0.00345908, 0.        , 0.        , 0.        , 0.        ,\n",
       "       0.        , 0.        , 0.        , 0.        , 0.        ,\n",
       "       0.09664053, 0.        , 0.01181956, 0.83792533])"
      ]
     },
     "execution_count": 29,
     "metadata": {},
     "output_type": "execute_result"
    }
   ],
   "source": [
    "clf = DecisionTreeClassifier()\n",
    "clf.fit(X_transformed, gmm_labels)\n",
    "importances = clf.feature_importances_\n",
    "importances\n",
    "\n",
    "# We see that the most influential columns are:\n",
    "# שכ\"ל - 0.8\n",
    "# מעמד משפטי-תרבותי- יחודי - 0.09\n",
    "# שלבי חינוך חט\"ב ועליונה - 0.047"
   ]
  },
  {
   "cell_type": "markdown",
   "metadata": {},
   "source": [
    "Permutation Feature Importance\n",
    "It is based on measuring the change in model performance when the values ​​of \n",
    "a particular feature are randomly shuffled. The main idea is that if a feature is important, \n",
    "shuffling it will significantly hurt the model's performance."
   ]
  },
  {
   "cell_type": "code",
   "execution_count": null,
   "metadata": {},
   "outputs": [
    {
     "name": "stdout",
     "output_type": "stream",
     "text": [
      "onehot__שם מחוז_ירושלים: 7.660296841294212e-10\n",
      "onehot__שם מחוז_מרכז: -4.879320281148125e-10\n",
      "onehot__שם מחוז_צפון: -1.2303902341415096e-10\n",
      "onehot__שם מחוז_תל אביב: 2.4221136207813743e-10\n",
      "onehot__שם מחוז_infrequent_sklearn: 1.1328593618742389e-10\n",
      "onehot__שם רשות_אשדוד: 1.3138456989025826e-10\n",
      "onehot__שם רשות_בני ברק: 3.937919990093519e-10\n",
      "onehot__שם רשות_ירושלים: 9.16559494967828e-10\n",
      "onehot__שם רשות_תל אביב-יפו: -7.261657941626254e-11\n",
      "onehot__שם רשות_infrequent_sklearn: 1.0940723882413295e-09\n",
      "onehot__שם מוסד_בן גוריון: -0.000508315817537297\n",
      "onehot__שם מוסד_ניצנים: 0.00014395940705747012\n",
      "onehot__שם מוסד_תיכון בית יעקב: -0.00030205381070746995\n",
      "onehot__שם מוסד_תיכון טכנולוגי נעמת: 0.00017644275382411312\n",
      "onehot__שם מוסד_infrequent_sklearn: 1.7602364010826932e-11\n",
      "onehot__סוג חינוך מוסד_רגיל: 0.0\n",
      "onehot__שלבי חינוך במוסד_חט\"ב בלבד: -1.4633183553769413e-10\n",
      "onehot__שלבי חינוך במוסד_חט\"ב ועליונה: 3.615812316226652e-09\n",
      "onehot__שלבי חינוך במוסד_יסודי בלבד: 6.157776177850849e-09\n",
      "onehot__שלבי חינוך במוסד_עליונה בלבד: 5.213798837111483e-09\n",
      "onehot__שלבי חינוך במוסד_infrequent_sklearn: 1.2734946430725813e-10\n",
      "onehot__מגזר_בדואי: -3.026878747647288e-10\n",
      "onehot__מגזר_דרוזי: 1.01099129068416e-11\n",
      "onehot__מגזר_יהודי: 1.5530365882199249e-10\n",
      "onehot__מגזר_infrequent_sklearn: -1.9355961278222367e-11\n",
      "onehot__סוג פיקוח_חרדי: 1.0988888687890608e-09\n",
      "onehot__סוג פיקוח_ממלכתי: 8.649797544890703e-10\n",
      "onehot__סוג פיקוח_ממלכתי דתי: 4.644572504375333e-10\n",
      "onehot__מעמד משפטי_מוכר: 1.6634887911592955e-09\n",
      "onehot__מעמד משפטי_פטור: 0.0027715774703389595\n",
      "onehot__מעמד משפטי_תרבותי-ייחודי: 0.0027715800072675156\n",
      "remainder__חמשון טיפוח: 1.3710148571988157e-09\n",
      "remainder__סטטוס מוסד: 0.009900482820376033\n",
      "remainder__שכ\"ל: 0.6930115231207158\n"
     ]
    }
   ],
   "source": [
    "### CODE BY GPT###\n",
    "# Permutation Feature Importance\n",
    "\n",
    "# # We will do another check of the importance of features\n",
    "\n",
    "feature_importance = []\n",
    "\n",
    "for feature_idx in range(X_transformed.shape[1]):\n",
    "    X_permuted = X_transformed.copy()\n",
    "    \n",
    "# Shuffle the values ​​in a specific column\n",
    "    if isinstance(X_permuted, pd.DataFrame):\n",
    "        X_permuted.iloc[:, feature_idx] = np.random.permutation(X_permuted.iloc[:, feature_idx])\n",
    "    else:\n",
    "        X_permuted[:, feature_idx] = np.random.permutation(X_permuted[:, feature_idx])\n",
    "    \n",
    "# Re-adapting the model and checking the silhouette index\n",
    "    permuted_labels = gmm.fit_predict(X_permuted)\n",
    "    permuted_score = silhouette_score(X_permuted, permuted_labels)\n",
    "    importance = gmm_silhouette - permuted_score  \n",
    "    feature_importance.append(importance)\n",
    "\n",
    "if isinstance(X_transformed, pd.DataFrame):\n",
    "    feature_names = X_transformed.columns\n",
    "else:\n",
    "    feature_names = [f\"Feature_{i}\" for i in range(X_transformed.shape[1])]\n",
    "\n",
    "for idx, importance in enumerate(feature_importance):\n",
    "    print(f\"{feature_names[idx]}: {importance}\")\n",
    "\n",
    "# remainder__שכ\"ל: 0.7777256510596344 \n",
    "# Once again we see that tuition is the factor that most influences the quality of the silhouette index.\n",
    "####"
   ]
  },
  {
   "cell_type": "markdown",
   "metadata": {},
   "source": [
    "##### Cluster Analysis"
   ]
  },
  {
   "cell_type": "code",
   "execution_count": 31,
   "metadata": {},
   "outputs": [
    {
     "name": "stdout",
     "output_type": "stream",
     "text": [
      "Number of clusters: 2\n",
      "Cluster sizes:\n",
      "0    3036\n",
      "1    1187\n",
      "Name: count, dtype: int64\n"
     ]
    }
   ],
   "source": [
    "# The number of clusters that were created\n",
    "unique_clusters = np.unique(gmm_labels)\n",
    "print(f\"Number of clusters: {len(unique_clusters)}\")\n",
    "\n",
    "# The size of each cluster\n",
    "cluster_sizes = pd.Series(gmm_labels).value_counts()\n",
    "print(\"Cluster sizes:\")\n",
    "print(cluster_sizes)\n"
   ]
  },
  {
   "cell_type": "code",
   "execution_count": 32,
   "metadata": {},
   "outputs": [
    {
     "name": "stdout",
     "output_type": "stream",
     "text": [
      "Mean differences between clusters:\n",
      "remainder__שכ\"ל                                1.931859e+04\n",
      "onehot__מעמד משפטי_מוכר                        6.629444e-01\n",
      "onehot__סוג פיקוח_חרדי                         4.847235e-01\n",
      "onehot__סוג פיקוח_ממלכתי                       3.219195e-01\n",
      "onehot__שם רשות_infrequent_sklearn             2.986956e-01\n",
      "onehot__שלבי חינוך במוסד_עליונה בלבד           2.808873e-01\n",
      "onehot__שלבי חינוך במוסד_חט\"ב ועליונה          1.675636e-01\n",
      "onehot__סוג פיקוח_ממלכתי דתי                   1.628040e-01\n",
      "onehot__שם מחוז_תל אביב                        1.172901e-01\n",
      "remainder__חמשון טיפוח                         1.134968e-01\n",
      "onehot__מעמד משפטי_פטור                        1.116147e-01\n",
      "onehot__שם רשות_בני ברק                        9.631728e-02\n",
      "onehot__שם מחוז_ירושלים                        9.615455e-02\n",
      "onehot__שם מחוז_מרכז                           9.045240e-02\n",
      "onehot__שם רשות_תל אביב-יפו                    7.753304e-02\n",
      "onehot__שם מחוז_infrequent_sklearn             7.292877e-02\n",
      "onehot__שם רשות_אשדוד                          6.515581e-02\n",
      "onehot__מגזר_בדואי                             6.224573e-02\n",
      "onehot__שלבי חינוך במוסד_יסודי בלבד            6.070967e-02\n",
      "onehot__שם רשות_ירושלים                        5.968947e-02\n",
      "onehot__שם מחוז_צפון                           5.006350e-02\n",
      "onehot__מגזר_יהודי                             4.886305e-02\n",
      "onehot__שלבי חינוך במוסד_חט\"ב בלבד             4.407047e-02\n",
      "onehot__מגזר_דרוזי                             4.249292e-02\n",
      "onehot__מעמד משפטי_תרבותי-ייחודי               3.989240e-02\n",
      "remainder__סטטוס מוסד                          1.926346e-02\n",
      "onehot__שם מוסד_infrequent_sklearn             9.299806e-03\n",
      "onehot__שלבי חינוך במוסד_infrequent_sklearn    8.543531e-03\n",
      "onehot__שם מוסד_בן גוריון                      6.102522e-03\n",
      "onehot__שם מוסד_ניצנים                         4.532578e-03\n",
      "onehot__שם מוסד_תיכון בית יעקב                 4.475183e-03\n",
      "onehot__שם מוסד_תיכון טכנולוגי נעמת            3.254679e-03\n",
      "onehot__מגזר_infrequent_sklearn                1.699717e-03\n",
      "onehot__סוג חינוך מוסד_רגיל                    2.031708e-14\n",
      "dtype: float64\n"
     ]
    }
   ],
   "source": [
    "### CODE BY GPT###\n",
    "# calculating the absolute differences between the centers (means) of two clusters\n",
    "\n",
    "means = pd.DataFrame(gmm.means_, columns=[feature_names])\n",
    "\n",
    "# Center differences between clusters\n",
    "mean_differences = np.abs(means.iloc[0] - means.iloc[1])\n",
    "print(\"Mean differences between clusters:\")\n",
    "print(mean_differences.sort_values(ascending=False))\n",
    "\n",
    "# remainder שכ\"ל 400092.27434\n",
    "###"
   ]
  },
  {
   "cell_type": "code",
   "execution_count": 33,
   "metadata": {},
   "outputs": [
    {
     "data": {
      "text/html": [
       "<div>\n",
       "<style scoped>\n",
       "    .dataframe tbody tr th:only-of-type {\n",
       "        vertical-align: middle;\n",
       "    }\n",
       "\n",
       "    .dataframe tbody tr th {\n",
       "        vertical-align: top;\n",
       "    }\n",
       "\n",
       "    .dataframe thead th {\n",
       "        text-align: right;\n",
       "    }\n",
       "</style>\n",
       "<table border=\"1\" class=\"dataframe\">\n",
       "  <thead>\n",
       "    <tr style=\"text-align: right;\">\n",
       "      <th></th>\n",
       "      <th>count</th>\n",
       "      <th>mean</th>\n",
       "      <th>std</th>\n",
       "      <th>min</th>\n",
       "      <th>25%</th>\n",
       "      <th>50%</th>\n",
       "      <th>75%</th>\n",
       "      <th>max</th>\n",
       "    </tr>\n",
       "    <tr>\n",
       "      <th>Cluster</th>\n",
       "      <th></th>\n",
       "      <th></th>\n",
       "      <th></th>\n",
       "      <th></th>\n",
       "      <th></th>\n",
       "      <th></th>\n",
       "      <th></th>\n",
       "      <th></th>\n",
       "    </tr>\n",
       "  </thead>\n",
       "  <tbody>\n",
       "    <tr>\n",
       "      <th>0</th>\n",
       "      <td>3036.0</td>\n",
       "      <td>7.135651e+04</td>\n",
       "      <td>2.738476e+05</td>\n",
       "      <td>-2648816.0</td>\n",
       "      <td>0.0</td>\n",
       "      <td>0.0</td>\n",
       "      <td>0.0</td>\n",
       "      <td>2557448.0</td>\n",
       "    </tr>\n",
       "    <tr>\n",
       "      <th>1</th>\n",
       "      <td>1187.0</td>\n",
       "      <td>7.102451e+06</td>\n",
       "      <td>5.977876e+06</td>\n",
       "      <td>-17889.0</td>\n",
       "      <td>2703889.5</td>\n",
       "      <td>5448649.0</td>\n",
       "      <td>10128503.5</td>\n",
       "      <td>39950481.0</td>\n",
       "    </tr>\n",
       "  </tbody>\n",
       "</table>\n",
       "</div>"
      ],
      "text/plain": [
       "          count          mean           std        min        25%        50%  \\\n",
       "Cluster                                                                        \n",
       "0        3036.0  7.135651e+04  2.738476e+05 -2648816.0        0.0        0.0   \n",
       "1        1187.0  7.102451e+06  5.977876e+06   -17889.0  2703889.5  5448649.0   \n",
       "\n",
       "                75%         max  \n",
       "Cluster                          \n",
       "0               0.0   2557448.0  \n",
       "1        10128503.5  39950481.0  "
      ]
     },
     "execution_count": 33,
     "metadata": {},
     "output_type": "execute_result"
    }
   ],
   "source": [
    "# Calculate and display the statistical distribution of the 'remainder__Tuition fees' column grouped by clusters\n",
    "\n",
    "X_clusters = pd.DataFrame(X_transformed)\n",
    "X_clusters['Cluster'] = gmm_labels\n",
    "\n",
    "# Distribution of the remainder__Tuition fees column by cluster\n",
    "column_name = 'remainder__שכ\"ל'  \n",
    "X_clusters.groupby('Cluster')[column_name].describe()\n",
    "\n",
    "# It's clear to see a significant difference in the tuition values ​​in the column between the two clusters.\n"
   ]
  },
  {
   "cell_type": "code",
   "execution_count": 34,
   "metadata": {},
   "outputs": [
    {
     "name": "stdout",
     "output_type": "stream",
     "text": [
      "Feature variances per cluster:\n",
      "         onehot__שם מחוז_ירושלים  onehot__שם מחוז_מרכז  onehot__שם מחוז_צפון  \\\n",
      "Cluster                                                                        \n",
      "0                       0.186403              0.142205              0.136949   \n",
      "1                       0.172620              0.139661              0.155835   \n",
      "\n",
      "         onehot__שם מחוז_תל אביב  onehot__שם מחוז_infrequent_sklearn  \\\n",
      "Cluster                                                                \n",
      "0                       0.143284                            0.184392   \n",
      "1                       0.136273                            0.190265   \n",
      "\n",
      "         onehot__שם רשות_אשדוד  onehot__שם רשות_בני ברק  \\\n",
      "Cluster                                                   \n",
      "0                     0.028155                 0.045196   \n",
      "1                     0.022248                 0.021442   \n",
      "\n",
      "         onehot__שם רשות_ירושלים  onehot__שם רשות_תל אביב-יפו  \\\n",
      "Cluster                                                         \n",
      "0                       0.123027                     0.030013   \n",
      "1                       0.116106                     0.038836   \n",
      "\n",
      "         onehot__שם רשות_infrequent_sklearn  ...  \\\n",
      "Cluster                                      ...   \n",
      "0                                  0.188055  ...   \n",
      "1                                  0.171205  ...   \n",
      "\n",
      "         onehot__מגזר_infrequent_sklearn  onehot__סוג פיקוח_חרדי  \\\n",
      "Cluster                                                            \n",
      "0                               0.000987                0.226515   \n",
      "1                               0.000000                0.145194   \n",
      "\n",
      "         onehot__סוג פיקוח_ממלכתי  onehot__סוג פיקוח_ממלכתי דתי  \\\n",
      "Cluster                                                           \n",
      "0                        0.249964                      0.122321   \n",
      "1                        0.242893                      0.181727   \n",
      "\n",
      "         onehot__מעמד משפטי_מוכר  onehot__מעמד משפטי_פטור  \\\n",
      "Cluster                                                     \n",
      "0                       0.166611                 0.060698   \n",
      "1                       0.249882                 0.000000   \n",
      "\n",
      "         onehot__מעמד משפטי_תרבותי-ייחודי  remainder__חמשון טיפוח  \\\n",
      "Cluster                                                             \n",
      "0                                0.091974                2.002694   \n",
      "1                                0.000000                2.036936   \n",
      "\n",
      "         remainder__סטטוס מוסד  remainder__שכ\"ל  \n",
      "Cluster                                          \n",
      "0                     0.011077     7.499250e+10  \n",
      "1                     0.000000     3.573500e+13  \n",
      "\n",
      "[2 rows x 34 columns]\n",
      "Variance differences between clusters:\n",
      "remainder__שכ\"ל                                3.566001e+13\n",
      "onehot__שלבי חינוך במוסד_חט\"ב ועליונה          2.488915e-01\n",
      "onehot__שלבי חינוך במוסד_עליונה בלבד           1.547849e-01\n",
      "onehot__שלבי חינוך במוסד_יסודי בלבד            1.320209e-01\n",
      "onehot__מעמד משפטי_תרבותי-ייחודי               9.197429e-02\n",
      "onehot__מעמד משפטי_מוכר                        8.327166e-02\n",
      "onehot__סוג פיקוח_חרדי                         8.132063e-02\n",
      "onehot__מעמד משפטי_פטור                        6.069755e-02\n",
      "onehot__סוג פיקוח_ממלכתי דתי                   5.940584e-02\n",
      "onehot__שלבי חינוך במוסד_חט\"ב בלבד             4.668449e-02\n",
      "remainder__חמשון טיפוח                         3.424171e-02\n",
      "onehot__שם רשות_בני ברק                        2.375379e-02\n",
      "onehot__מגזר_יהודי                             2.333088e-02\n",
      "onehot__שם מחוז_צפון                           1.888628e-02\n",
      "onehot__שלבי חינוך במוסד_infrequent_sklearn    1.739332e-02\n",
      "onehot__שם רשות_infrequent_sklearn             1.684955e-02\n",
      "onehot__שם מחוז_ירושלים                        1.378277e-02\n",
      "remainder__סטטוס מוסד                          1.107718e-02\n",
      "onehot__שם מוסד_תיכון בית יעקב                 9.188923e-03\n",
      "onehot__שם רשות_תל אביב-יפו                    8.822513e-03\n",
      "onehot__שם מוסד_infrequent_sklearn             8.242962e-03\n",
      "onehot__סוג פיקוח_ממלכתי                       7.071465e-03\n",
      "onehot__שם מחוז_תל אביב                        7.011911e-03\n",
      "onehot__שם רשות_ירושלים                        6.920655e-03\n",
      "onehot__שם מוסד_תיכון טכנולוגי נעמת            6.699901e-03\n",
      "onehot__שם רשות_אשדוד                          5.906858e-03\n",
      "onehot__שם מחוז_infrequent_sklearn             5.872802e-03\n",
      "onehot__שם מוסד_בן גוריון                      4.917921e-03\n",
      "onehot__שם מוסד_ניצנים                         2.628969e-03\n",
      "onehot__שם מחוז_מרכז                           2.544297e-03\n",
      "onehot__מגזר_דרוזי                             2.177164e-03\n",
      "onehot__מגזר_בדואי                             1.099363e-03\n",
      "onehot__מגזר_infrequent_sklearn                9.874911e-04\n",
      "onehot__סוג חינוך מוסד_רגיל                    0.000000e+00\n",
      "dtype: float64\n"
     ]
    }
   ],
   "source": [
    "# Variance Analysis\n",
    "\n",
    "X_clusters = pd.DataFrame(X_transformed)\n",
    "X_clusters['Cluster'] = gmm_labels\n",
    "\n",
    "# Calculating the variance in each cluster\n",
    "variances = X_clusters.groupby('Cluster').var()\n",
    "print(\"Feature variances per cluster:\")\n",
    "print(variances)\n",
    "\n",
    "# Features with the highest variance\n",
    "variance_differences = np.abs(variances.iloc[0] - variances.iloc[1])\n",
    "print(\"Variance differences between clusters:\")\n",
    "print(variance_differences.sort_values(ascending=False))\n",
    "\n",
    "# Again, it is clear to see that the biggest difference between the calculations is in the tuition fee column."
   ]
  },
  {
   "cell_type": "code",
   "execution_count": 35,
   "metadata": {},
   "outputs": [
    {
     "name": "stdout",
     "output_type": "stream",
     "text": [
      "PCA Components:\n",
      "[[-7.74982721e-09  1.44694290e-09  4.31952662e-09  8.03268901e-10\n",
      "   1.18008852e-09 -5.54587654e-10 -1.33857226e-09 -4.46121015e-09\n",
      "  -5.71782834e-10  6.92615290e-09 -3.62219467e-10 -1.93183716e-10\n",
      "   5.39399625e-10  4.95827746e-10 -4.79824188e-10 -0.00000000e+00\n",
      "  -3.58923563e-09  3.97238233e-08 -6.18410038e-08  2.51002395e-08\n",
      "   6.06176616e-10  3.83673464e-10  5.47742280e-11 -2.03722386e-09\n",
      "  -7.24438935e-11 -1.80493988e-08  1.83113418e-08 -2.61942963e-10\n",
      "   1.53636161e-08 -4.75714901e-09 -4.97001137e-09 -2.21036095e-09\n",
      "   8.43673899e-10  1.00000000e+00]\n",
      " [-5.78491952e-03 -3.71936265e-02  6.43504556e-02 -4.32604317e-02\n",
      "   2.19552877e-02 -4.28131461e-03 -1.14730009e-02  2.52239444e-03\n",
      "  -7.82037542e-03  2.10519631e-02 -7.84875259e-04 -2.25177092e-04\n",
      "  -1.25332505e-03 -1.23688347e-04  2.38706575e-03  0.00000000e+00\n",
      "   7.46640195e-04  5.20594982e-03  3.28373014e-03 -8.26895243e-03\n",
      "  -9.67367725e-04  2.12110298e-02  1.30915609e-02 -9.71974478e-02\n",
      "  -6.13248191e-04 -3.40408331e-02  6.74710132e-02 -3.34301801e-02\n",
      "   4.30232778e-03 -2.35620863e-03 -1.90765244e-02  9.86927060e-01\n",
      "  -1.26967452e-03 -2.63407907e-10]]\n"
     ]
    }
   ],
   "source": [
    "pca = PCA(n_components=2)\n",
    "pca.fit(X_transformed)\n",
    "\n",
    "print(\"PCA Components:\")\n",
    "print(pca.components_)\n",
    "\n",
    "\n",
    "# It can be seen that the first component (the first row of the component matrix) is almost completely\n",
    "# dominated by the last feature (coefficient of 1.0), while all other features contribute zero to this component. \n",
    "# This means that the main direction of the variation in the data (the first principal component) is largely determined by\n",
    "# that last feature. In the second component (the second row), \n",
    "# contributions of varying values ​​can be seen for a number of features, but less extreme than in the first component.\n"
   ]
  },
  {
   "cell_type": "code",
   "execution_count": null,
   "metadata": {},
   "outputs": [
    {
     "data": {
      "image/png": "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",
      "text/plain": [
       "<Figure size 1000x700 with 1 Axes>"
      ]
     },
     "metadata": {},
     "output_type": "display_data"
    }
   ],
   "source": [
    "### CODE BY GPT###\n",
    "# PCA Graph\n",
    "\n",
    "pca = PCA(n_components=2, random_state=42)\n",
    "X_pca = pca.fit_transform(X_transformed)\n",
    "\n",
    "# Setting the number of clusters\n",
    "unique_clusters = np.unique(gmm_labels)\n",
    "\n",
    "plt.figure(figsize=(10, 7))\n",
    "\n",
    "# Plot the points for each cluster\n",
    "for cluster in unique_clusters:\n",
    "    cluster_points = X_pca[gmm_labels == cluster]\n",
    "    plt.scatter(cluster_points[:, 0], cluster_points[:, 1], label=f'Cluster {cluster}', s=50)\n",
    "\n",
    "plt.title('GMM Clustering with PCA', fontsize=14)\n",
    "plt.xlabel('PCA Component 1', fontsize=12)\n",
    "plt.ylabel('PCA Component 2', fontsize=12)\n",
    "plt.legend()\n",
    "plt.grid()\n",
    "plt.show()\n",
    "\n",
    "\n",
    "# The graph shows dimensionality reduction by PCA based on 2 columns:\n",
    "# Component 1 = Tuition\n",
    "# Component 2 = Care quintile (חמשון טיפוח)\n",
    "\n",
    "# And it can be seen that the partition is not good, the clusters overlap\n",
    "###"
   ]
  },
  {
   "cell_type": "markdown",
   "metadata": {},
   "source": [
    " From this model, it can be concluded that the division of the clusters was according to the level of tuition fees. The small cluster (1) contained all the high values ​​of tuition fees, while the large cluster (0) contained more values, but their level of tuition fees was lower. All the testing we've done so far has shown that."
   ]
  },
  {
   "cell_type": "code",
   "execution_count": 37,
   "metadata": {},
   "outputs": [
    {
     "name": "stdout",
     "output_type": "stream",
     "text": [
      "Cluster\n",
      "0    0.988801\n",
      "1    1.000000\n",
      "Name: remainder__סטטוס מוסד, dtype: float64\n"
     ]
    }
   ],
   "source": [
    "count_ones_per_cluster = X_clusters.groupby('Cluster')['remainder__סטטוס מוסד'].mean()\n",
    "print(count_ones_per_cluster)\n"
   ]
  },
  {
   "cell_type": "markdown",
   "metadata": {},
   "source": [
    " It can be seen that all the values ​​in cluster 1 are schools with open status compared to cluster 0 which does have 3002 open schools but has 34 (the cluster contains a total of 3036 values) closed schools. Shows a division into two of the tuition fee range"
   ]
  },
  {
   "cell_type": "code",
   "execution_count": 38,
   "metadata": {},
   "outputs": [
    {
     "name": "stdout",
     "output_type": "stream",
     "text": [
      "          count          mean           std        min        25%        50%  \\\n",
      "Cluster                                                                        \n",
      "0        3036.0  7.135651e+04  2.738476e+05 -2648816.0        0.0        0.0   \n",
      "1        1187.0  7.102451e+06  5.977876e+06   -17889.0  2703889.5  5448649.0   \n",
      "\n",
      "                75%         max  \n",
      "Cluster                          \n",
      "0               0.0   2557448.0  \n",
      "1        10128503.5  39950481.0  \n"
     ]
    }
   ],
   "source": [
    "X_clusters_gmm = pd.DataFrame(X_transformed)\n",
    "X_clusters_gmm['Cluster'] = gmm_labels\n",
    "\n",
    "# Distribution of the remainder__salary column by cluster\n",
    "column_name = 'remainder__שכ\"ל'  \n",
    "print(X_clusters_gmm.groupby('Cluster')[column_name].describe())"
   ]
  },
  {
   "cell_type": "markdown",
   "metadata": {},
   "source": [
    "It can be seen that the highest values ​​of tuition fees are in cluster no. 1."
   ]
  },
  {
   "cell_type": "markdown",
   "metadata": {},
   "source": [
    "#### ------------------> Next model"
   ]
  },
  {
   "cell_type": "markdown",
   "metadata": {},
   "source": [
    "#### Agglomerative Clustering"
   ]
  },
  {
   "cell_type": "code",
   "execution_count": 39,
   "metadata": {},
   "outputs": [
    {
     "name": "stdout",
     "output_type": "stream",
     "text": [
      "Silhouette Score for Agglomerative Clustering: 0.8021889460225801\n"
     ]
    }
   ],
   "source": [
    "agglo = AgglomerativeClustering(n_clusters=2)\n",
    "agglo_labels = agglo.fit_predict(X_transformed)\n",
    "agglo_silhouette = silhouette_score(X_transformed, agglo_labels)\n",
    "print(f\"Silhouette Score for Agglomerative Clustering: {agglo_silhouette}\")"
   ]
  },
  {
   "cell_type": "markdown",
   "metadata": {},
   "source": [
    "##### Internal Metrics"
   ]
  },
  {
   "cell_type": "code",
   "execution_count": 40,
   "metadata": {},
   "outputs": [
    {
     "name": "stdout",
     "output_type": "stream",
     "text": [
      "Davies-Bouldin Index (DBI): 0.527701953379543\n"
     ]
    }
   ],
   "source": [
    "# Davies-Bouldin Index (DBI)\n",
    "\n",
    "agglo_dbi_score = davies_bouldin_score(X_transformed, agglo_labels)\n",
    "print(f\"Davies-Bouldin Index (DBI): {agglo_dbi_score}\")"
   ]
  },
  {
   "cell_type": "code",
   "execution_count": 41,
   "metadata": {},
   "outputs": [
    {
     "name": "stdout",
     "output_type": "stream",
     "text": [
      "Calinski-Harabasz Index (Variance Ratio Criterion): 7926.581929378543\n"
     ]
    }
   ],
   "source": [
    "# Calinski-Harabasz Index (Variance Ratio Criterion)\n",
    "\n",
    "agglo_ch_score = calinski_harabasz_score(X_transformed, agglo_labels)\n",
    "print(f\"Calinski-Harabasz Index (Variance Ratio Criterion): {agglo_ch_score}\")"
   ]
  },
  {
   "cell_type": "code",
   "execution_count": 42,
   "metadata": {},
   "outputs": [
    {
     "name": "stdout",
     "output_type": "stream",
     "text": [
      "Compactness: 4950208111.067438\n",
      "Separation: 8942342.532484204\n"
     ]
    }
   ],
   "source": [
    "### CODE BY GPT###\n",
    "# Compactness & Separation\n",
    "\n",
    "# Compactness\n",
    "agglo_compactness = 0\n",
    "for cluster in np.unique(agglo_labels):\n",
    "    cluster_points = X_transformed[agglo_labels == cluster]\n",
    "    cluster_center = np.mean(cluster_points, axis=0)\n",
    "    agglo_compactness += np.sum(np.linalg.norm(cluster_points - cluster_center, axis=1))\n",
    "\n",
    "# Separation\n",
    "centroids = [np.mean(X_transformed[agglo_labels == cluster], axis=0) for cluster in np.unique(agglo_labels)]\n",
    "agglo_separation = np.min([np.linalg.norm(c1 - c2) for i, c1 in enumerate(centroids) for j, c2 in enumerate(centroids) if i != j])\n",
    "\n",
    "print(f\"Compactness: {agglo_compactness}\")\n",
    "print(f\"Separation: {agglo_separation}\")\n",
    "####\n"
   ]
  },
  {
   "cell_type": "markdown",
   "metadata": {},
   "source": [
    "#### feature importances"
   ]
  },
  {
   "cell_type": "code",
   "execution_count": 43,
   "metadata": {},
   "outputs": [
    {
     "data": {
      "text/plain": [
       "array([0., 0., 0., 0., 0., 0., 0., 0., 0., 0., 0., 0., 0., 0., 0., 0., 0.,\n",
       "       0., 0., 0., 0., 0., 0., 0., 0., 0., 0., 0., 0., 0., 0., 0., 0., 1.])"
      ]
     },
     "execution_count": 43,
     "metadata": {},
     "output_type": "execute_result"
    }
   ],
   "source": [
    "clf = DecisionTreeClassifier()\n",
    "clf.fit(X_transformed, agglo_labels)\n",
    "importances = clf.feature_importances_\n",
    "importances\n",
    "\n",
    "# DecisionTreeClassifier relies entirely on the tuition fee feature"
   ]
  },
  {
   "cell_type": "code",
   "execution_count": null,
   "metadata": {},
   "outputs": [
    {
     "name": "stdout",
     "output_type": "stream",
     "text": [
      "onehot__שם מחוז_ירושלים: 6.491569504163408e-10\n",
      "onehot__שם מחוז_מרכז: -2.3118262859611605e-10\n",
      "onehot__שם מחוז_צפון: -3.3954061784413625e-11\n",
      "onehot__שם מחוז_תל אביב: 1.6493673093975758e-10\n",
      "onehot__שם מחוז_infrequent_sklearn: 1.5580137180393194e-10\n",
      "onehot__שם רשות_אשדוד: 5.647349254900291e-11\n",
      "onehot__שם רשות_בני ברק: 2.5829316463443774e-10\n",
      "onehot__שם רשות_ירושלים: 6.488860559983323e-10\n",
      "onehot__שם רשות_תל אביב-יפו: -6.22313311993139e-12\n",
      "onehot__שם רשות_infrequent_sklearn: 7.867311246911868e-10\n",
      "onehot__שם מוסד_בן גוריון: -4.5468628862010974e-11\n",
      "onehot__שם מוסד_ניצנים: -2.331923543152925e-11\n",
      "onehot__שם מוסד_תיכון בית יעקב: 5.7724380830848077e-11\n",
      "onehot__שם מוסד_תיכון טכנולוגי נעמת: 2.9073854435068824e-11\n",
      "onehot__שם מוסד_infrequent_sklearn: 3.637368184428169e-11\n",
      "onehot__סוג חינוך מוסד_רגיל: 0.0\n",
      "onehot__שלבי חינוך במוסד_חט\"ב בלבד: -7.721778771951904e-11\n",
      "onehot__שלבי חינוך במוסד_חט\"ב ועליונה: 2.277459665300796e-09\n",
      "onehot__שלבי חינוך במוסד_יסודי בלבד: 4.2210461792535625e-09\n",
      "onehot__שלבי חינוך במוסד_עליונה בלבד: 3.6342088227669933e-09\n",
      "onehot__שלבי חינוך במוסד_infrequent_sklearn: 1.0075873468906593e-10\n",
      "onehot__מגזר_בדואי: -1.1933409815867435e-10\n",
      "onehot__מגזר_דרוזי: -7.383582634190589e-11\n",
      "onehot__מגזר_יהודי: 9.686396129637842e-11\n",
      "onehot__מגזר_infrequent_sklearn: -6.197597990365011e-12\n",
      "onehot__סוג פיקוח_חרדי: 7.771765453412627e-10\n",
      "onehot__סוג פיקוח_ממלכתי: 6.457950840754734e-10\n",
      "onehot__סוג פיקוח_ממלכתי דתי: 3.116711333461808e-10\n",
      "onehot__מעמד משפטי_מוכר: 1.0272507289244004e-09\n",
      "onehot__מעמד משפטי_פטור: -3.5269054343700645e-10\n",
      "onehot__מעמד משפטי_תרבותי-ייחודי: 1.576622943311179e-09\n",
      "remainder__חמשון טיפוח: 9.182813398567191e-10\n",
      "remainder__סטטוס מוסד: 1.1749312633924092e-10\n",
      "remainder__שכ\"ל: 1.2570356533458948e-08\n"
     ]
    }
   ],
   "source": [
    "### CODE BY GPT###\n",
    "# Permutation Feature Importance\n",
    "\n",
    "feature_importance = []\n",
    "\n",
    "for feature_idx in range(X_transformed.shape[1]):\n",
    "    X_permuted = X_transformed.copy()\n",
    "    \n",
    "    # Shuffle the values ​​in a specific column\n",
    "    if isinstance(X_permuted, pd.DataFrame):\n",
    "        X_permuted.iloc[:, feature_idx] = np.random.permutation(X_permuted.iloc[:, feature_idx])\n",
    "    else:\n",
    "        X_permuted[:, feature_idx] = np.random.permutation(X_permuted[:, feature_idx])\n",
    "    \n",
    "    # Re-adapting the model and checking the silhouette index\n",
    "    permuted_labels = agglo.fit_predict(X_permuted)\n",
    "    permuted_score = silhouette_score(X_permuted, permuted_labels)\n",
    "    importance = agglo_silhouette - permuted_score  \n",
    "    feature_importance.append(importance)\n",
    "\n",
    "if isinstance(X_transformed, pd.DataFrame):\n",
    "    feature_names = X_transformed.columns\n",
    "else:\n",
    "    feature_names = [f\"Feature_{i}\" for i in range(X_transformed.shape[1])]\n",
    "\n",
    "for idx, importance in enumerate(feature_importance):\n",
    "    print(f\"{feature_names[idx]}: {importance}\")\n",
    "\n",
    "\n",
    "# The tuition column is the column with the highest score.\n",
    "####"
   ]
  },
  {
   "cell_type": "markdown",
   "metadata": {},
   "source": [
    "##### Cluster Analysis"
   ]
  },
  {
   "cell_type": "code",
   "execution_count": 45,
   "metadata": {},
   "outputs": [
    {
     "name": "stdout",
     "output_type": "stream",
     "text": [
      "Number of clusters: 2\n",
      "Cluster sizes:\n",
      "1    3351\n",
      "0     872\n",
      "Name: count, dtype: int64\n"
     ]
    }
   ],
   "source": [
    "# Find all unique cluster labels\n",
    "unique_clusters = np.unique(agglo_labels)\n",
    "print(f\"Number of clusters: {len(unique_clusters)}\")\n",
    "\n",
    "# Count the number of samples in each cluster\n",
    "cluster_sizes = pd.Series(agglo_labels).value_counts()\n",
    "print(\"Cluster sizes:\")\n",
    "print(cluster_sizes)"
   ]
  },
  {
   "cell_type": "code",
   "execution_count": 46,
   "metadata": {},
   "outputs": [],
   "source": [
    "# Agglomerative Clustering, unlike K-Means or GMM, does not have a built-in function\n",
    "# that returns cluster centers (centroids). \n",
    "# Therefore, we will skip this step in the current model."
   ]
  },
  {
   "cell_type": "code",
   "execution_count": 47,
   "metadata": {},
   "outputs": [
    {
     "name": "stdout",
     "output_type": "stream",
     "text": [
      "          count          mean           std        min        25%        50%  \\\n",
      "Cluster                                                                        \n",
      "0         872.0  9.143509e+06  5.715690e+06  2874454.0  4731502.0  7691130.0   \n",
      "1        3351.0  2.011664e+05  5.490547e+05 -2648816.0        0.0        0.0   \n",
      "\n",
      "                75%         max  \n",
      "Cluster                          \n",
      "0        12351384.5  39950481.0  \n",
      "1               0.0   2836232.0  \n"
     ]
    }
   ],
   "source": [
    "X_clusters = pd.DataFrame(X_transformed)\n",
    "X_clusters['Cluster'] = agglo_labels\n",
    "\n",
    "# Distribution of the remainder__salary column by cluster\n",
    "column_name = 'remainder__שכ\"ל'  \n",
    "print(X_clusters.groupby('Cluster')[column_name].describe())"
   ]
  },
  {
   "cell_type": "markdown",
   "metadata": {},
   "source": [
    "Although cluster 0 contains many fewer values ​​than cluster 1, it contains much higher values ​​of tuition fees."
   ]
  },
  {
   "cell_type": "code",
   "execution_count": 48,
   "metadata": {},
   "outputs": [
    {
     "name": "stdout",
     "output_type": "stream",
     "text": [
      "Feature variances per cluster:\n",
      "         onehot__שם מחוז_ירושלים  onehot__שם מחוז_מרכז  onehot__שם מחוז_צפון  \\\n",
      "Cluster                                                                        \n",
      "0                       0.152877              0.134148              0.169309   \n",
      "1                       0.189518              0.143363              0.134813   \n",
      "\n",
      "         onehot__שם מחוז_תל אביב  onehot__שם מחוז_infrequent_sklearn  \\\n",
      "Cluster                                                                \n",
      "0                       0.139558                            0.197094   \n",
      "1                       0.141797                            0.183037   \n",
      "\n",
      "         onehot__שם רשות_אשדוד  onehot__שם רשות_בני ברק  \\\n",
      "Cluster                                                   \n",
      "0                     0.024621                 0.022435   \n",
      "1                     0.026991                 0.042772   \n",
      "\n",
      "         onehot__שם רשות_ירושלים  onehot__שם רשות_תל אביב-יפו  \\\n",
      "Cluster                                                         \n",
      "0                       0.099869                     0.027880   \n",
      "1                       0.126355                     0.033706   \n",
      "\n",
      "         onehot__שם רשות_infrequent_sklearn  ...  \\\n",
      "Cluster                                      ...   \n",
      "0                                  0.153592  ...   \n",
      "1                                  0.190396  ...   \n",
      "\n",
      "         onehot__מגזר_infrequent_sklearn  onehot__סוג פיקוח_חרדי  \\\n",
      "Cluster                                                            \n",
      "0                               0.000000                0.100758   \n",
      "1                               0.000895                0.226586   \n",
      "\n",
      "         onehot__סוג פיקוח_ממלכתי  onehot__סוג פיקוח_ממלכתי דתי  \\\n",
      "Cluster                                                           \n",
      "0                        0.230368                      0.185398   \n",
      "1                        0.250063                      0.127402   \n",
      "\n",
      "         onehot__מעמד משפטי_מוכר  onehot__מעמד משפטי_פטור  \\\n",
      "Cluster                                                     \n",
      "0                       0.248765                 0.000000   \n",
      "1                       0.189958                 0.055349   \n",
      "\n",
      "         onehot__מעמד משפטי_תרבותי-ייחודי  remainder__חמשון טיפוח  \\\n",
      "Cluster                                                             \n",
      "0                                 0.00000                1.994943   \n",
      "1                                 0.08422                2.020707   \n",
      "\n",
      "         remainder__סטטוס מוסד  remainder__שכ\"ל  \n",
      "Cluster                                          \n",
      "0                     0.000000     3.266911e+13  \n",
      "1                     0.010046     3.014611e+11  \n",
      "\n",
      "[2 rows x 34 columns]\n",
      "Variance differences between clusters:\n",
      "remainder__שכ\"ל                                3.236765e+13\n",
      "onehot__שלבי חינוך במוסד_חט\"ב ועליונה          2.195958e-01\n",
      "onehot__שלבי חינוך במוסד_יסודי בלבד            1.802260e-01\n",
      "onehot__סוג פיקוח_חרדי                         1.258277e-01\n",
      "onehot__שלבי חינוך במוסד_עליונה בלבד           1.157067e-01\n",
      "onehot__מעמד משפטי_תרבותי-ייחודי               8.421990e-02\n",
      "onehot__מעמד משפטי_מוכר                        5.880718e-02\n",
      "onehot__סוג פיקוח_ממלכתי דתי                   5.799579e-02\n",
      "onehot__מעמד משפטי_פטור                        5.534886e-02\n",
      "onehot__שלבי חינוך במוסד_חט\"ב בלבד             4.249994e-02\n",
      "onehot__שם רשות_infrequent_sklearn             3.680405e-02\n",
      "onehot__שם מחוז_ירושלים                        3.664083e-02\n",
      "onehot__שם מחוז_צפון                           3.449540e-02\n",
      "onehot__שם רשות_ירושלים                        2.648523e-02\n",
      "remainder__חמשון טיפוח                         2.576422e-02\n",
      "onehot__מגזר_יהודי                             2.345062e-02\n",
      "onehot__שם רשות_בני ברק                        2.033636e-02\n",
      "onehot__סוג פיקוח_ממלכתי                       1.969519e-02\n",
      "onehot__שם מחוז_infrequent_sklearn             1.405683e-02\n",
      "onehot__מגזר_בדואי                             1.254365e-02\n",
      "remainder__סטטוס מוסד                          1.004628e-02\n",
      "onehot__שלבי חינוך במוסד_infrequent_sklearn    9.493682e-03\n",
      "onehot__שם מחוז_מרכז                           9.214884e-03\n",
      "onehot__שם מוסד_תיכון טכנולוגי נעמת            9.100580e-03\n",
      "onehot__שם מוסד_infrequent_sklearn             8.930579e-03\n",
      "onehot__שם מוסד_תיכון בית יעקב                 6.779620e-03\n",
      "onehot__שם רשות_תל אביב-יפו                    5.826212e-03\n",
      "onehot__שם מוסד_בן גוריון                      4.457569e-03\n",
      "onehot__שם מוסד_ניצנים                         2.382359e-03\n",
      "onehot__שם רשות_אשדוד                          2.369668e-03\n",
      "onehot__שם מחוז_תל אביב                        2.239159e-03\n",
      "onehot__מגזר_infrequent_sklearn                8.947207e-04\n",
      "onehot__מגזר_דרוזי                             6.644178e-04\n",
      "onehot__סוג חינוך מוסד_רגיל                    0.000000e+00\n",
      "dtype: float64\n"
     ]
    }
   ],
   "source": [
    "# Variance Analysis\n",
    "\n",
    "variances = X_clusters.groupby('Cluster').var()\n",
    "print(\"Feature variances per cluster:\")\n",
    "print(variances)\n",
    "\n",
    "variance_differences = np.abs(variances.iloc[0] - variances.iloc[1])\n",
    "print(\"Variance differences between clusters:\")\n",
    "print(variance_differences.sort_values(ascending=False))"
   ]
  },
  {
   "cell_type": "code",
   "execution_count": 49,
   "metadata": {},
   "outputs": [
    {
     "name": "stdout",
     "output_type": "stream",
     "text": [
      "PCA Components:\n",
      "[[-7.74982721e-09  1.44694290e-09  4.31952662e-09  8.03268901e-10\n",
      "   1.18008852e-09 -5.54587654e-10 -1.33857226e-09 -4.46121015e-09\n",
      "  -5.71782834e-10  6.92615290e-09 -3.62219467e-10 -1.93183716e-10\n",
      "   5.39399625e-10  4.95827746e-10 -4.79824188e-10 -0.00000000e+00\n",
      "  -3.58923563e-09  3.97238233e-08 -6.18410038e-08  2.51002395e-08\n",
      "   6.06176616e-10  3.83673464e-10  5.47742280e-11 -2.03722386e-09\n",
      "  -7.24438935e-11 -1.80493988e-08  1.83113418e-08 -2.61942963e-10\n",
      "   1.53636161e-08 -4.75714901e-09 -4.97001137e-09 -2.21036095e-09\n",
      "   8.43673899e-10  1.00000000e+00]\n",
      " [-5.78491952e-03 -3.71936265e-02  6.43504556e-02 -4.32604317e-02\n",
      "   2.19552877e-02 -4.28131461e-03 -1.14730009e-02  2.52239444e-03\n",
      "  -7.82037542e-03  2.10519631e-02 -7.84875259e-04 -2.25177092e-04\n",
      "  -1.25332505e-03 -1.23688347e-04  2.38706575e-03  0.00000000e+00\n",
      "   7.46640195e-04  5.20594982e-03  3.28373014e-03 -8.26895243e-03\n",
      "  -9.67367725e-04  2.12110298e-02  1.30915609e-02 -9.71974478e-02\n",
      "  -6.13248191e-04 -3.40408331e-02  6.74710132e-02 -3.34301801e-02\n",
      "   4.30232778e-03 -2.35620863e-03 -1.90765244e-02  9.86927060e-01\n",
      "  -1.26967452e-03 -2.63407907e-10]]\n"
     ]
    }
   ],
   "source": [
    "# Perform PCA to reduce dimensionality and extract the principal components\n",
    "\n",
    "pca = PCA(n_components=2)\n",
    "pca.fit(X_transformed)\n",
    "\n",
    "# Display PCA components\n",
    "print(\"PCA Components:\")\n",
    "print(pca.components_)\n",
    "\n",
    "# It can be seen that the first component is limited only by tuition fees,\n",
    "# the second component consists mainly of the five-care nurturing (חמשון טיפוח)."
   ]
  },
  {
   "cell_type": "code",
   "execution_count": null,
   "metadata": {},
   "outputs": [
    {
     "data": {
      "image/png": "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",
      "text/plain": [
       "<Figure size 1000x700 with 1 Axes>"
      ]
     },
     "metadata": {},
     "output_type": "display_data"
    }
   ],
   "source": [
    "### CODE BY GPT###\n",
    "# PCA display on a graph\n",
    "\n",
    "pca = PCA(n_components=2, random_state=42)\n",
    "X_pca = pca.fit_transform(X_transformed)\n",
    "\n",
    "# Setting the number of clusters\n",
    "unique_clusters = np.unique(agglo_labels)\n",
    "\n",
    "plt.figure(figsize=(10, 7))\n",
    "\n",
    "# Plot the points for each cluster\n",
    "for cluster in unique_clusters:\n",
    "    cluster_points = X_pca[agglo_labels == cluster]\n",
    "    plt.scatter(cluster_points[:, 0], cluster_points[:, 1], label=f'Cluster {cluster}', s=50)\n",
    "\n",
    "plt.title('Agglomerative Clustering with PCA', fontsize=14)\n",
    "plt.xlabel('PCA Component 1', fontsize=12)\n",
    "plt.ylabel('PCA Component 2', fontsize=12)\n",
    "plt.legend()\n",
    "plt.grid()\n",
    "plt.show()\n",
    "####\n"
   ]
  },
  {
   "cell_type": "markdown",
   "metadata": {},
   "source": [
    "The PCA distribution in this model looks much better than the previous model."
   ]
  },
  {
   "cell_type": "code",
   "execution_count": 51,
   "metadata": {},
   "outputs": [
    {
     "name": "stdout",
     "output_type": "stream",
     "text": [
      "Cluster\n",
      "0    1.000000\n",
      "1    0.989854\n",
      "Name: remainder__סטטוס מוסד, dtype: float64\n"
     ]
    }
   ],
   "source": [
    "count_ones_per_cluster = X_clusters.groupby('Cluster')['remainder__סטטוס מוסד'].mean()\n",
    "print(count_ones_per_cluster)"
   ]
  },
  {
   "cell_type": "markdown",
   "metadata": {},
   "source": [
    "It can be seen that all the values ​​in cluster zero in the remainder__סטטוס מוסד column are 'active' compared to cluster 1, which has 3351 points in the entire cluster, only 3317 of which are in the status of an active school."
   ]
  },
  {
   "cell_type": "code",
   "execution_count": 52,
   "metadata": {},
   "outputs": [
    {
     "name": "stdout",
     "output_type": "stream",
     "text": [
      "          count          mean           std        min        25%        50%  \\\n",
      "Cluster                                                                        \n",
      "0         872.0  9.143509e+06  5.715690e+06  2874454.0  4731502.0  7691130.0   \n",
      "1        3351.0  2.011664e+05  5.490547e+05 -2648816.0        0.0        0.0   \n",
      "\n",
      "                75%         max  \n",
      "Cluster                          \n",
      "0        12351384.5  39950481.0  \n",
      "1               0.0   2836232.0  \n"
     ]
    }
   ],
   "source": [
    "X_clusters_agglo = pd.DataFrame(X_transformed)\n",
    "X_clusters_agglo['Cluster'] = agglo_labels\n",
    "\n",
    "# Distribution of the remainder__salary column by cluster\n",
    "column_name = 'remainder__שכ\"ל'  \n",
    "print(X_clusters_agglo.groupby('Cluster')[column_name].describe())"
   ]
  },
  {
   "cell_type": "markdown",
   "metadata": {},
   "source": [
    "Again, the division by tuition ranges can be seen.\n",
    "In addition, the intersection in the cluster where all values ​​are in the \"active\" status is also the cluster with the highest tuition range (like previous model)."
   ]
  },
  {
   "cell_type": "markdown",
   "metadata": {},
   "source": [
    "#### ------------------> Next model"
   ]
  },
  {
   "cell_type": "markdown",
   "metadata": {},
   "source": [
    "#### K- means"
   ]
  },
  {
   "cell_type": "code",
   "execution_count": 53,
   "metadata": {},
   "outputs": [],
   "source": [
    "range_n_clusters = range(1,30)\n",
    "\n",
    "inertia = []\n",
    "\n",
    "for n_clusters in range_n_clusters:\n",
    "    kmeans = KMeans(n_clusters= n_clusters, random_state=42)\n",
    "    kmeans.fit(X_transformed)\n",
    "    inertia.append(kmeans.inertia_)"
   ]
  },
  {
   "cell_type": "code",
   "execution_count": 54,
   "metadata": {},
   "outputs": [
    {
     "data": {
      "image/png": "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",
      "text/plain": [
       "<Figure size 800x500 with 1 Axes>"
      ]
     },
     "metadata": {},
     "output_type": "display_data"
    }
   ],
   "source": [
    "plt.figure(figsize=(8, 5))\n",
    "plt.plot(range_n_clusters, inertia, marker='o')\n",
    "plt.title('Elbow Method for Optimal K')\n",
    "plt.xlabel('Number of Clusters (k)')\n",
    "plt.ylabel('Inertia')\n",
    "plt.grid()\n",
    "plt.show()"
   ]
  },
  {
   "cell_type": "code",
   "execution_count": 55,
   "metadata": {},
   "outputs": [
    {
     "name": "stdout",
     "output_type": "stream",
     "text": [
      "Silhouette Score for K-Means: 0.8463857770428953\n"
     ]
    }
   ],
   "source": [
    "# According to the graph above, the optimal number of clusters is 2\n",
    "\n",
    "kmeans = KMeans(n_clusters=2, random_state=42)\n",
    "kmeans_labels = kmeans.fit_predict(X_transformed)\n",
    "kmeans_silhouette = silhouette_score(X_transformed, kmeans_labels)\n",
    "print(f\"Silhouette Score for K-Means: {kmeans_silhouette}\")"
   ]
  },
  {
   "cell_type": "markdown",
   "metadata": {},
   "source": [
    "##### Internal Mertics"
   ]
  },
  {
   "cell_type": "code",
   "execution_count": 56,
   "metadata": {},
   "outputs": [
    {
     "name": "stdout",
     "output_type": "stream",
     "text": [
      "Davies-Bouldin Index (DBI): 0.40770209529569645\n"
     ]
    }
   ],
   "source": [
    "# Davies-Bouldin Index (DBI)\n",
    "\n",
    "kmeans_dbi_score = davies_bouldin_score(X_transformed, kmeans_labels)\n",
    "print(f\"Davies-Bouldin Index (DBI): {kmeans_dbi_score}\")"
   ]
  },
  {
   "cell_type": "code",
   "execution_count": 57,
   "metadata": {},
   "outputs": [
    {
     "name": "stdout",
     "output_type": "stream",
     "text": [
      "Calinski-Harabasz Index (Variance Ratio Criterion): 12111.228725671335\n"
     ]
    }
   ],
   "source": [
    "# Calinski-Harabasz Index (Variance Ratio Criterion)\n",
    "\n",
    "kmeans_ch_score = calinski_harabasz_score(X_transformed, kmeans_labels)\n",
    "print(f\"Calinski-Harabasz Index (Variance Ratio Criterion): {kmeans_ch_score}\")\n"
   ]
  },
  {
   "cell_type": "code",
   "execution_count": null,
   "metadata": {},
   "outputs": [
    {
     "name": "stdout",
     "output_type": "stream",
     "text": [
      "Compactness: 5580456567.180102\n",
      "Separation: 11974860.321213963\n"
     ]
    }
   ],
   "source": [
    "### CODE BY GPT###\n",
    "# Compactness & Separation\n",
    "\n",
    "# compactness\n",
    "kmeans_compactness = 0\n",
    "for cluster in np.unique(kmeans_labels):\n",
    "    cluster_points = X_transformed[kmeans_labels == cluster]\n",
    "    cluster_center = np.mean(cluster_points, axis=0)\n",
    "    kmeans_compactness += np.sum(np.linalg.norm(cluster_points - cluster_center, axis=1))\n",
    "\n",
    "# Separation\n",
    "centroids = [np.mean(X_transformed[kmeans_labels == cluster], axis=0) for cluster in np.unique(kmeans_labels)]\n",
    "kmeans_separation = np.min([np.linalg.norm(c1 - c2) for i, c1 in enumerate(centroids) for j, c2 in enumerate(centroids) if i != j])\n",
    "\n",
    "print(f\"Compactness: {kmeans_compactness}\")\n",
    "print(f\"Separation: {kmeans_separation}\")\n",
    "####\n"
   ]
  },
  {
   "cell_type": "markdown",
   "metadata": {},
   "source": [
    "##### Feature Importence "
   ]
  },
  {
   "cell_type": "code",
   "execution_count": 59,
   "metadata": {},
   "outputs": [
    {
     "data": {
      "text/plain": [
       "array([0., 0., 0., 0., 0., 0., 0., 0., 0., 0., 0., 0., 0., 0., 0., 0., 0.,\n",
       "       0., 0., 0., 0., 0., 0., 0., 0., 0., 0., 0., 0., 0., 0., 0., 0., 1.])"
      ]
     },
     "execution_count": 59,
     "metadata": {},
     "output_type": "execute_result"
    }
   ],
   "source": [
    "# Finding the most important features by Decision Tree Classifier\n",
    "\n",
    "clf = DecisionTreeClassifier()\n",
    "clf.fit(X_transformed, kmeans_labels)\n",
    "importances = clf.feature_importances_\n",
    "importances\n",
    "\n",
    "# Decision Tree shows that the most important feature is the tuition"
   ]
  },
  {
   "cell_type": "code",
   "execution_count": null,
   "metadata": {},
   "outputs": [
    {
     "name": "stdout",
     "output_type": "stream",
     "text": [
      "onehot__שם מחוז_ירושלים: 3.3177705027753746e-10\n",
      "onehot__שם מחוז_מרכז: -1.6758117116211224e-10\n",
      "onehot__שם מחוז_צפון: 3.763356293262632e-11\n",
      "onehot__שם מחוז_תל אביב: 2.0337642681056423e-10\n",
      "onehot__שם מחוז_infrequent_sklearn: 3.3163694013182976e-11\n",
      "onehot__שם רשות_אשדוד: 6.34758912099187e-11\n",
      "onehot__שם רשות_בני ברק: 1.1162171187351078e-10\n",
      "onehot__שם רשות_ירושלים: 4.691238508769402e-10\n",
      "onehot__שם רשות_תל אביב-יפו: 1.3351764138747058e-11\n",
      "onehot__שם רשות_infrequent_sklearn: 5.729078322858072e-10\n",
      "onehot__שם מוסד_בן גוריון: -3.048328256483046e-11\n",
      "onehot__שם מוסד_ניצנים: -5.777267553241927e-12\n",
      "onehot__שם מוסד_תיכון בית יעקב: 3.72373243351376e-11\n",
      "onehot__שם מוסד_תיכון טכנולוגי נעמת: 3.831024386613535e-11\n",
      "onehot__שם מוסד_infrequent_sklearn: 2.950450994632092e-11\n",
      "onehot__סוג חינוך מוסד_רגיל: 0.0\n",
      "onehot__שלבי חינוך במוסד_חט\"ב בלבד: -5.115896595242475e-11\n",
      "onehot__שלבי חינוך במוסד_חט\"ב ועליונה: 1.5309705725385925e-09\n",
      "onehot__שלבי חינוך במוסד_יסודי בלבד: 2.7213519215862902e-09\n",
      "onehot__שלבי חינוך במוסד_עליונה בלבד: 2.3558376360810485e-09\n",
      "onehot__שלבי חינוך במוסד_infrequent_sklearn: 5.0595194700520096e-11\n",
      "onehot__מגזר_בדואי: -1.1750600492632657e-10\n",
      "onehot__מגזר_דרוזי: 2.2706392321936164e-11\n",
      "onehot__מגזר_יהודי: 8.678069374212782e-11\n",
      "onehot__מגזר_infrequent_sklearn: -6.6562311218376635e-12\n",
      "onehot__סוג פיקוח_חרדי: 5.811071623895714e-10\n",
      "onehot__סוג פיקוח_ממלכתי: 4.1716186061080407e-10\n",
      "onehot__סוג פיקוח_ממלכתי דתי: 2.443042435018583e-10\n",
      "onehot__מעמד משפטי_מוכר: 7.561787862542246e-10\n",
      "onehot__מעמד משפטי_פטור: -2.1078205847402387e-10\n",
      "onehot__מעמד משפטי_תרבותי-ייחודי: 9.935410272277068e-10\n",
      "remainder__חמשון טיפוח: 9.309787385447521e-10\n",
      "remainder__סטטוס מוסד: 5.834821514838495e-11\n",
      "remainder__שכ\"ל: 7.667350643281168e-09\n"
     ]
    }
   ],
   "source": [
    "### CODE BY GPT###\n",
    "# Permutation Feature Importance\n",
    "\n",
    "# We will do another check of the importance of features\n",
    "\n",
    "feature_importance = []\n",
    "\n",
    "for feature_idx in range(X_transformed.shape[1]):\n",
    "    X_permuted = X_transformed.copy()\n",
    "    \n",
    "# Shuffle the values ​​in a specific column\n",
    "    if isinstance(X_permuted, pd.DataFrame):\n",
    "        X_permuted.iloc[:, feature_idx] = np.random.permutation(X_permuted.iloc[:, feature_idx])\n",
    "    else:\n",
    "        X_permuted[:, feature_idx] = np.random.permutation(X_permuted[:, feature_idx])\n",
    "    \n",
    "# Re-adapting the model and checking the silhouette index\n",
    "    permuted_labels = kmeans.fit_predict(X_permuted)\n",
    "    permuted_score = silhouette_score(X_permuted, permuted_labels)\n",
    "    importance = kmeans_silhouette - permuted_score  # מדידת שינוי בביצועים\n",
    "    feature_importance.append(importance)\n",
    "\n",
    "if isinstance(X_transformed, pd.DataFrame):\n",
    "    feature_names = X_transformed.columns\n",
    "else:\n",
    "    feature_names = [f\"Feature_{i}\" for i in range(X_transformed.shape[1])]\n",
    "\n",
    "for idx, importance in enumerate(feature_importance):\n",
    "    print(f\"{feature_names[idx]}: {importance}\")\n",
    "\n",
    "# Again, we can see that although the features are in the negative power at some level,\n",
    "# the tuition fee column is in the lowest negative power (-5), \n",
    "# it is the column that has the most impact on the silhouette index.\n",
    "####"
   ]
  },
  {
   "cell_type": "markdown",
   "metadata": {},
   "source": [
    "##### Cluster Analysis"
   ]
  },
  {
   "cell_type": "code",
   "execution_count": 61,
   "metadata": {},
   "outputs": [
    {
     "name": "stdout",
     "output_type": "stream",
     "text": [
      "Number of clusters: 2\n",
      "Cluster sizes:\n"
     ]
    },
    {
     "data": {
      "text/plain": [
       "0    3726\n",
       "1     497\n",
       "Name: count, dtype: int64"
      ]
     },
     "execution_count": 61,
     "metadata": {},
     "output_type": "execute_result"
    }
   ],
   "source": [
    "# Number of clusters created\n",
    "unique_clusters = np.unique(kmeans_labels)\n",
    "print(f\"Number of clusters: {len(unique_clusters)}\")\n",
    "\n",
    "# Size of each cluster\n",
    "cluster_sizes = pd.Series(kmeans_labels).value_counts()\n",
    "print(\"Cluster sizes:\")\n",
    "cluster_sizes\n"
   ]
  },
  {
   "cell_type": "code",
   "execution_count": 62,
   "metadata": {},
   "outputs": [
    {
     "name": "stdout",
     "output_type": "stream",
     "text": [
      "Mean differences between clusters:\n",
      "remainder__שכ\"ל                                1.197486e+07\n",
      "onehot__שם מחוז_infrequent_sklearn             4.959872e-02\n",
      "onehot__מעמד משפטי_מוכר                        4.374557e-02\n",
      "onehot__שם מחוז_צפון                           2.179637e-02\n",
      "onehot__שם מחוז_ירושלים                        2.176883e-02\n",
      "onehot__סוג פיקוח_ממלכתי                       2.127472e-02\n",
      "onehot__שם מחוז_תל אביב                        1.683369e-02\n",
      "onehot__שם רשות_ירושלים                        1.590650e-02\n",
      "onehot__סוג פיקוח_חרדי                         1.503816e-02\n",
      "onehot__מעמד משפטי_תרבותי-ייחודי               1.277337e-02\n",
      "onehot__שם רשות_אשדוד                          1.262054e-02\n",
      "onehot__שלבי חינוך במוסד_חט\"ב בלבד             1.246124e-02\n",
      "remainder__חמשון טיפוח                         1.207405e-02\n",
      "onehot__שלבי חינוך במוסד_עליונה בלבד           1.162477e-02\n",
      "onehot__שם רשות_בני ברק                        1.138608e-02\n",
      "onehot__שם מחוז_מרכז                           1.080017e-02\n",
      "onehot__מגזר_יהודי                             8.502437e-03\n",
      "onehot__שם רשות_infrequent_sklearn             8.487857e-03\n",
      "onehot__מעמד משפטי_פטור                        7.262577e-03\n",
      "onehot__סוג פיקוח_ממלכתי דתי                   6.236561e-03\n",
      "onehot__שם רשות_תל אביב-יפו                    6.184180e-03\n",
      "onehot__שם מוסד_בן גוריון                      5.096062e-03\n",
      "onehot__שם מוסד_תיכון בית יעקב                 2.952228e-03\n",
      "onehot__מגזר_דרוזי                             2.675743e-03\n",
      "onehot__שם מוסד_תיכון טכנולוגי נעמת            2.413839e-03\n",
      "onehot__שם מוסד_infrequent_sklearn             2.410599e-03\n",
      "remainder__סטטוס מוסד                          2.283697e-03\n",
      "onehot__שם מוסד_ניצנים                         2.147075e-03\n",
      "onehot__מגזר_infrequent_sklearn                1.475304e-03\n",
      "onehot__שלבי חינוך במוסד_חט\"ב ועליונה          1.153459e-03\n",
      "onehot__שלבי חינוך במוסד_infrequent_sklearn    1.075157e-03\n",
      "onehot__שלבי חינוך במוסד_יסודי בלבד            9.147747e-04\n",
      "onehot__מגזר_בדואי                             1.458024e-05\n",
      "onehot__סוג חינוך מוסד_רגיל                    0.000000e+00\n",
      "dtype: float64\n"
     ]
    }
   ],
   "source": [
    "### CODE BY GPT###\n",
    "if isinstance(X_transformed, pd.DataFrame):\n",
    "    column_names = X_transformed.columns\n",
    "else:\n",
    "    column_names = X_original.columns  \n",
    "\n",
    "# Using kmeans.cluster_centers_ instead of means_\n",
    "cluster_centers = pd.DataFrame(kmeans.cluster_centers_, columns=column_names)\n",
    "\n",
    "# Center differences between clusters\n",
    "mean_differences = np.abs(cluster_centers.iloc[0] - cluster_centers.iloc[1])\n",
    "print(\"Mean differences between clusters:\")\n",
    "print(mean_differences.sort_values(ascending=False))\n",
    "\n",
    "# The feature with the largest difference between clusters by a significant margin is tuition.\n",
    "####"
   ]
  },
  {
   "cell_type": "code",
   "execution_count": 63,
   "metadata": {},
   "outputs": [
    {
     "name": "stdout",
     "output_type": "stream",
     "text": [
      "Feature variances per cluster:\n",
      "         onehot__שם מחוז_ירושלים  onehot__שם מחוז_מרכז  onehot__שם מחוז_צפון  \\\n",
      "Cluster                                                                        \n",
      "0                       0.152877              0.134148              0.169309   \n",
      "1                       0.189518              0.143363              0.134813   \n",
      "\n",
      "         onehot__שם מחוז_תל אביב  onehot__שם מחוז_infrequent_sklearn  \\\n",
      "Cluster                                                                \n",
      "0                       0.139558                            0.197094   \n",
      "1                       0.141797                            0.183037   \n",
      "\n",
      "         onehot__שם רשות_אשדוד  onehot__שם רשות_בני ברק  \\\n",
      "Cluster                                                   \n",
      "0                     0.024621                 0.022435   \n",
      "1                     0.026991                 0.042772   \n",
      "\n",
      "         onehot__שם רשות_ירושלים  onehot__שם רשות_תל אביב-יפו  \\\n",
      "Cluster                                                         \n",
      "0                       0.099869                     0.027880   \n",
      "1                       0.126355                     0.033706   \n",
      "\n",
      "         onehot__שם רשות_infrequent_sklearn  ...  \\\n",
      "Cluster                                      ...   \n",
      "0                                  0.153592  ...   \n",
      "1                                  0.190396  ...   \n",
      "\n",
      "         onehot__מגזר_infrequent_sklearn  onehot__סוג פיקוח_חרדי  \\\n",
      "Cluster                                                            \n",
      "0                               0.000000                0.100758   \n",
      "1                               0.000895                0.226586   \n",
      "\n",
      "         onehot__סוג פיקוח_ממלכתי  onehot__סוג פיקוח_ממלכתי דתי  \\\n",
      "Cluster                                                           \n",
      "0                        0.230368                      0.185398   \n",
      "1                        0.250063                      0.127402   \n",
      "\n",
      "         onehot__מעמד משפטי_מוכר  onehot__מעמד משפטי_פטור  \\\n",
      "Cluster                                                     \n",
      "0                       0.248765                 0.000000   \n",
      "1                       0.189958                 0.055349   \n",
      "\n",
      "         onehot__מעמד משפטי_תרבותי-ייחודי  remainder__חמשון טיפוח  \\\n",
      "Cluster                                                             \n",
      "0                                 0.00000                1.994943   \n",
      "1                                 0.08422                2.020707   \n",
      "\n",
      "         remainder__סטטוס מוסד  remainder__שכ\"ל  \n",
      "Cluster                                          \n",
      "0                     0.000000     3.266911e+13  \n",
      "1                     0.010046     3.014611e+11  \n",
      "\n",
      "[2 rows x 34 columns]\n",
      "Variance differences between clusters:\n",
      "remainder__שכ\"ל                                3.236765e+13\n",
      "onehot__שלבי חינוך במוסד_חט\"ב ועליונה          2.195958e-01\n",
      "onehot__שלבי חינוך במוסד_יסודי בלבד            1.802260e-01\n",
      "onehot__סוג פיקוח_חרדי                         1.258277e-01\n",
      "onehot__שלבי חינוך במוסד_עליונה בלבד           1.157067e-01\n",
      "onehot__מעמד משפטי_תרבותי-ייחודי               8.421990e-02\n",
      "onehot__מעמד משפטי_מוכר                        5.880718e-02\n",
      "onehot__סוג פיקוח_ממלכתי דתי                   5.799579e-02\n",
      "onehot__מעמד משפטי_פטור                        5.534886e-02\n",
      "onehot__שלבי חינוך במוסד_חט\"ב בלבד             4.249994e-02\n",
      "onehot__שם רשות_infrequent_sklearn             3.680405e-02\n",
      "onehot__שם מחוז_ירושלים                        3.664083e-02\n",
      "onehot__שם מחוז_צפון                           3.449540e-02\n",
      "onehot__שם רשות_ירושלים                        2.648523e-02\n",
      "remainder__חמשון טיפוח                         2.576422e-02\n",
      "onehot__מגזר_יהודי                             2.345062e-02\n",
      "onehot__שם רשות_בני ברק                        2.033636e-02\n",
      "onehot__סוג פיקוח_ממלכתי                       1.969519e-02\n",
      "onehot__שם מחוז_infrequent_sklearn             1.405683e-02\n",
      "onehot__מגזר_בדואי                             1.254365e-02\n",
      "remainder__סטטוס מוסד                          1.004628e-02\n",
      "onehot__שלבי חינוך במוסד_infrequent_sklearn    9.493682e-03\n",
      "onehot__שם מחוז_מרכז                           9.214884e-03\n",
      "onehot__שם מוסד_תיכון טכנולוגי נעמת            9.100580e-03\n",
      "onehot__שם מוסד_infrequent_sklearn             8.930579e-03\n",
      "onehot__שם מוסד_תיכון בית יעקב                 6.779620e-03\n",
      "onehot__שם רשות_תל אביב-יפו                    5.826212e-03\n",
      "onehot__שם מוסד_בן גוריון                      4.457569e-03\n",
      "onehot__שם מוסד_ניצנים                         2.382359e-03\n",
      "onehot__שם רשות_אשדוד                          2.369668e-03\n",
      "onehot__שם מחוז_תל אביב                        2.239159e-03\n",
      "onehot__מגזר_infrequent_sklearn                8.947207e-04\n",
      "onehot__מגזר_דרוזי                             6.644178e-04\n",
      "onehot__סוג חינוך מוסד_רגיל                    0.000000e+00\n",
      "dtype: float64\n"
     ]
    }
   ],
   "source": [
    "# Variance Analysis\n",
    "\n",
    "variances = X_clusters.groupby('Cluster').var()\n",
    "print(\"Feature variances per cluster:\")\n",
    "print(variances)\n",
    "\n",
    "variance_differences = np.abs(variances.iloc[0] - variances.iloc[1])\n",
    "print(\"Variance differences between clusters:\")\n",
    "print(variance_differences.sort_values(ascending=False))\n",
    "\n",
    "\n",
    "# Tuition cluster has the highest variability and it seems that in the other columns,\n",
    "# the differences between the clusters are small, even very small."
   ]
  },
  {
   "cell_type": "code",
   "execution_count": 64,
   "metadata": {},
   "outputs": [
    {
     "name": "stdout",
     "output_type": "stream",
     "text": [
      "PCA Components:\n",
      "[[-7.74982721e-09  1.44694290e-09  4.31952662e-09  8.03268901e-10\n",
      "   1.18008852e-09 -5.54587654e-10 -1.33857226e-09 -4.46121015e-09\n",
      "  -5.71782834e-10  6.92615290e-09 -3.62219467e-10 -1.93183716e-10\n",
      "   5.39399625e-10  4.95827746e-10 -4.79824188e-10 -0.00000000e+00\n",
      "  -3.58923563e-09  3.97238233e-08 -6.18410038e-08  2.51002395e-08\n",
      "   6.06176616e-10  3.83673464e-10  5.47742280e-11 -2.03722386e-09\n",
      "  -7.24438935e-11 -1.80493988e-08  1.83113418e-08 -2.61942963e-10\n",
      "   1.53636161e-08 -4.75714901e-09 -4.97001137e-09 -2.21036095e-09\n",
      "   8.43673899e-10  1.00000000e+00]\n",
      " [-5.78491952e-03 -3.71936265e-02  6.43504556e-02 -4.32604317e-02\n",
      "   2.19552877e-02 -4.28131461e-03 -1.14730009e-02  2.52239444e-03\n",
      "  -7.82037542e-03  2.10519631e-02 -7.84875259e-04 -2.25177092e-04\n",
      "  -1.25332505e-03 -1.23688347e-04  2.38706575e-03  0.00000000e+00\n",
      "   7.46640195e-04  5.20594982e-03  3.28373014e-03 -8.26895243e-03\n",
      "  -9.67367725e-04  2.12110298e-02  1.30915609e-02 -9.71974478e-02\n",
      "  -6.13248191e-04 -3.40408331e-02  6.74710132e-02 -3.34301801e-02\n",
      "   4.30232778e-03 -2.35620863e-03 -1.90765244e-02  9.86927060e-01\n",
      "  -1.26967452e-03 -2.63407907e-10]]\n"
     ]
    }
   ],
   "source": [
    "pca = PCA(n_components=2)\n",
    "pca.fit(X_transformed)\n",
    "\n",
    "print(\"PCA Components:\")\n",
    "print(pca.components_)\n",
    "\n",
    "# It can be seen that the first component is limited only by tuition fees,\n",
    "# the second component consists mainly of the five-care nurturing (חמשון טיפוח)."
   ]
  },
  {
   "cell_type": "code",
   "execution_count": null,
   "metadata": {},
   "outputs": [
    {
     "data": {
      "image/png": "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",
      "text/plain": [
       "<Figure size 1000x700 with 1 Axes>"
      ]
     },
     "metadata": {},
     "output_type": "display_data"
    }
   ],
   "source": [
    "### CODE BY GPT###\n",
    "# PCA Graph\n",
    "\n",
    "pca = PCA(n_components=2, random_state=42)\n",
    "X_pca = pca.fit_transform(X_transformed)\n",
    "\n",
    "# Setting the number of clusters\n",
    "unique_clusters = np.unique(kmeans_labels)\n",
    "\n",
    "plt.figure(figsize=(10, 7))\n",
    "\n",
    "# Plot the points for each cluster\n",
    "for cluster in unique_clusters:\n",
    "    cluster_points = X_pca[kmeans_labels == cluster]\n",
    "    plt.scatter(cluster_points[:, 0], cluster_points[:, 1], label=f'Cluster {cluster}', s=50)\n",
    "\n",
    "plt.title('kmeans Clustering with PCA', fontsize=14)\n",
    "plt.xlabel('PCA Component 1', fontsize=12)\n",
    "plt.ylabel('PCA Component 2', fontsize=12)\n",
    "plt.legend()\n",
    "plt.grid()\n",
    "plt.show()\n",
    "####\n"
   ]
  },
  {
   "cell_type": "code",
   "execution_count": 66,
   "metadata": {},
   "outputs": [
    {
     "data": {
      "text/plain": [
       "Cluster\n",
       "0    1.000000\n",
       "1    0.989854\n",
       "Name: remainder__סטטוס מוסד, dtype: float64"
      ]
     },
     "execution_count": 66,
     "metadata": {},
     "output_type": "execute_result"
    }
   ],
   "source": [
    "count_ones_per_cluster = X_clusters.groupby('Cluster')['remainder__סטטוס מוסד'].mean()\n",
    "count_ones_per_cluster\n",
    "\n",
    "# In both clusters there is an absolute majority of active institutions.\n",
    "# but in cluster 0 all the school are active, in cluster 1 just most of them."
   ]
  },
  {
   "cell_type": "code",
   "execution_count": 67,
   "metadata": {},
   "outputs": [
    {
     "data": {
      "text/plain": [
       "Cluster\n",
       "0    7691130.0\n",
       "1          0.0\n",
       "Name: remainder__שכ\"ל, dtype: float64"
      ]
     },
     "execution_count": 67,
     "metadata": {},
     "output_type": "execute_result"
    }
   ],
   "source": [
    "tuition_range_cluster = X_clusters.groupby('Cluster')['remainder__שכ\"ל'].median()\n",
    "tuition_range_cluster\n",
    "\n",
    "# "
   ]
  },
  {
   "cell_type": "code",
   "execution_count": 68,
   "metadata": {},
   "outputs": [
    {
     "name": "stdout",
     "output_type": "stream",
     "text": [
      "          count          mean           std        min        25%         50%  \\\n",
      "Cluster                                                                         \n",
      "0        3726.0  6.383478e+05  1.448325e+06 -2648816.0        0.0         0.0   \n",
      "1         497.0  1.261321e+07  5.332022e+06  6637886.0  8703003.0  11628715.0   \n",
      "\n",
      "                75%         max  \n",
      "Cluster                          \n",
      "0          171501.5   6616087.0  \n",
      "1        14978518.0  39950481.0  \n"
     ]
    }
   ],
   "source": [
    "X_clusters_kmeans = pd.DataFrame(X_transformed)\n",
    "X_clusters_kmeans['Cluster'] = kmeans_labels\n",
    "\n",
    "# Distribution of the remainder__salary column by cluster\n",
    "column_name = 'remainder__שכ\"ל'  \n",
    "print(X_clusters_kmeans.groupby('Cluster')[column_name].describe())"
   ]
  },
  {
   "cell_type": "code",
   "execution_count": null,
   "metadata": {},
   "outputs": [
    {
     "name": "stdout",
     "output_type": "stream",
     "text": [
      "   Cluster ID          Model   count          mean           std        min  \\\n",
      "0           0  Agglomerative   872.0  9.143509e+06  5.715690e+06  2874454.0   \n",
      "1           0            GMM  3036.0  7.135651e+04  2.738476e+05 -2648816.0   \n",
      "2           0         KMeans  3726.0  6.383478e+05  1.448325e+06 -2648816.0   \n",
      "3           1  Agglomerative  3351.0  2.011664e+05  5.490547e+05 -2648816.0   \n",
      "4           1            GMM  1187.0  7.102451e+06  5.977876e+06   -17889.0   \n",
      "5           1         KMeans   497.0  1.261321e+07  5.332022e+06  6637886.0   \n",
      "\n",
      "         25%         50%         75%         max  \n",
      "0  4731502.0   7691130.0  12351384.5  39950481.0  \n",
      "1        0.0         0.0         0.0   2557448.0  \n",
      "2        0.0         0.0    171501.5   6616087.0  \n",
      "3        0.0         0.0         0.0   2836232.0  \n",
      "4  2703889.5   5448649.0  10128503.5  39950481.0  \n",
      "5  8703003.0  11628715.0  14978518.0  39950481.0  \n"
     ]
    },
    {
     "name": "stderr",
     "output_type": "stream",
     "text": [
      "C:\\Users\\mena9\\AppData\\Local\\Temp\\ipykernel_3568\\1156552376.py:14: FutureWarning: The previous implementation of stack is deprecated and will be removed in a future version of pandas. See the What's New notes for pandas 2.1.0 for details. Specify future_stack=True to adopt the new implementation and silence this warning.\n",
      "  comparison_df = comparison_df.stack(level=0).reset_index()\n"
     ]
    }
   ],
   "source": [
    "### CODE BY GPT###\n",
    "# Perform descriptive statistics for each model\n",
    "kmeans_stats = X_clusters_kmeans.groupby('Cluster')['remainder__שכ\"ל'].describe()\n",
    "agglo_stats = X_clusters_agglo.groupby('Cluster')['remainder__שכ\"ל'].describe()\n",
    "gmm_stats = X_clusters_gmm.groupby('Cluster')['remainder__שכ\"ל'].describe()\n",
    "\n",
    "# Combine the results into a single DataFrame for comparison\n",
    "comparison_df = pd.concat({\n",
    "    'KMeans': kmeans_stats,\n",
    "    'Agglomerative': agglo_stats,\n",
    "    'GMM': gmm_stats\n",
    "}, axis=1)\n",
    "\n",
    "# Transform the DataFrame so models are rows\n",
    "comparison_df = comparison_df.stack(level=0).reset_index()\n",
    "\n",
    "# Rename columns for better readability\n",
    "comparison_df.rename(columns={\n",
    "    'level_1': 'Model',\n",
    "    'Cluster': 'Cluster ID'\n",
    "}, inplace=True)\n",
    "\n",
    "# Display the DataFrame in the console\n",
    "print(comparison_df)\n",
    "####\n"
   ]
  },
  {
   "cell_type": "markdown",
   "metadata": {},
   "source": [
    "####  Internal Metrics Comparison Across Models"
   ]
  },
  {
   "cell_type": "markdown",
   "metadata": {},
   "source": [
    "Internal Metrics:\n",
    "These metrics evaluate the quality of clusters without requiring ground truth data. They are based solely on the structure of the data.\n",
    "\n",
    "1. **Silhouette Score**  \n",
    "   Measures the closeness of each point to its own cluster compared to other clusters.  \n",
    "   Range: -1 to 1  \n",
    "   - Value close to 1: Well-separated clusters  \n",
    "   - Value close to 0: Overlapping or unclear structure  \n",
    "   - Negative value: Misallocated points to clusters  \n",
    "\n",
    "2. **Davies-Bouldin Index (DBI)**  \n",
    "   Evaluates the ratio of the distance between clusters to the dispersion within clusters.  \n",
    "   Range: 0 and above (smaller is better)  \n",
    "   - Based on the ratio of the distance between cluster centers to the dispersion within each cluster  \n",
    "\n",
    "3. **Calinski-Harabasz Index (Variance Ratio Criterion)**  \n",
    "   Based on the ratio of between-cluster dispersion to within-cluster dispersion.  \n",
    "   - Higher values indicate better-separated clusters  \n",
    "\n",
    "4. **Compactness and Separation**  \n",
    "   - **Compactness**: How close the points are within a cluster. Lower values are better.  \n",
    "   - **Separation**: How far apart the clusters are. Higher values are better.  \n",
    "   These metrics complement each other and are often used with clustering algorithms like K-Means."
   ]
  },
  {
   "cell_type": "code",
   "execution_count": 71,
   "metadata": {},
   "outputs": [
    {
     "data": {
      "text/html": [
       "<div>\n",
       "<style scoped>\n",
       "    .dataframe tbody tr th:only-of-type {\n",
       "        vertical-align: middle;\n",
       "    }\n",
       "\n",
       "    .dataframe tbody tr th {\n",
       "        vertical-align: top;\n",
       "    }\n",
       "\n",
       "    .dataframe thead th {\n",
       "        text-align: right;\n",
       "    }\n",
       "</style>\n",
       "<table border=\"1\" class=\"dataframe\">\n",
       "  <thead>\n",
       "    <tr style=\"text-align: right;\">\n",
       "      <th></th>\n",
       "      <th>Silhouette</th>\n",
       "      <th>DBI Score</th>\n",
       "      <th>CH Score</th>\n",
       "      <th>Compactness</th>\n",
       "      <th>Separation</th>\n",
       "    </tr>\n",
       "  </thead>\n",
       "  <tbody>\n",
       "    <tr>\n",
       "      <th>DBSCAN</th>\n",
       "      <td>0.517598</td>\n",
       "      <td>0.842749</td>\n",
       "      <td>10.433699</td>\n",
       "      <td>7.286582e+09</td>\n",
       "      <td>1.000000e+00</td>\n",
       "    </tr>\n",
       "    <tr>\n",
       "      <th>GMM</th>\n",
       "      <td>0.690525</td>\n",
       "      <td>0.676622</td>\n",
       "      <td>4179.151851</td>\n",
       "      <td>5.890036e+09</td>\n",
       "      <td>7.031095e+06</td>\n",
       "    </tr>\n",
       "    <tr>\n",
       "      <th>Agglomerative</th>\n",
       "      <td>0.802189</td>\n",
       "      <td>0.527702</td>\n",
       "      <td>7926.581929</td>\n",
       "      <td>4.950208e+09</td>\n",
       "      <td>8.942343e+06</td>\n",
       "    </tr>\n",
       "    <tr>\n",
       "      <th>KMeans</th>\n",
       "      <td>0.846386</td>\n",
       "      <td>0.407702</td>\n",
       "      <td>12111.228726</td>\n",
       "      <td>5.580457e+09</td>\n",
       "      <td>1.197486e+07</td>\n",
       "    </tr>\n",
       "  </tbody>\n",
       "</table>\n",
       "</div>"
      ],
      "text/plain": [
       "               Silhouette  DBI Score      CH Score   Compactness    Separation\n",
       "DBSCAN           0.517598   0.842749     10.433699  7.286582e+09  1.000000e+00\n",
       "GMM              0.690525   0.676622   4179.151851  5.890036e+09  7.031095e+06\n",
       "Agglomerative    0.802189   0.527702   7926.581929  4.950208e+09  8.942343e+06\n",
       "KMeans           0.846386   0.407702  12111.228726  5.580457e+09  1.197486e+07"
      ]
     },
     "execution_count": 71,
     "metadata": {},
     "output_type": "execute_result"
    }
   ],
   "source": [
    "### CODE BY GPT###\n",
    "# Comparison of internal metrics across all the models we tried\n",
    "\n",
    "metrics_df = pd.DataFrame({\n",
    "    'Silhouette': [\n",
    "        dbscan_silhouette, gmm_silhouette, agglo_silhouette, kmeans_silhouette\n",
    "    ],\n",
    "    'DBI Score': [\n",
    "        dbscan_dbi_score, gmm_dbi_score, agglo_dbi_score, kmeans_dbi_score\n",
    "    ],\n",
    "    'CH Score': [\n",
    "        dbscan_ch_score, gmm_ch_score, agglo_ch_score, kmeans_ch_score\n",
    "    ],\n",
    "    'Compactness': [\n",
    "        dbscan_compactness, gmm_compactness, agglo_compactness, kmeans_compactness\n",
    "    ],\n",
    "    'Separation': [\n",
    "        dbscan_separation, gmm_separation, agglo_separation, kmeans_separation\n",
    "    ]\n",
    "},\n",
    "index=['DBSCAN', 'GMM', 'Agglomerative', 'KMeans'])\n",
    "\n",
    "metrics_df\n",
    "####"
   ]
  },
  {
   "cell_type": "markdown",
   "metadata": {},
   "source": [
    "You can see that the k-means model with 2 clusters is the best model in almost every metric."
   ]
  },
  {
   "cell_type": "markdown",
   "metadata": {},
   "source": [
    "First of all, we can conclude that in all the models we saw, the division into clusters was done according to 2 tuition ranges, and in all there was one large cluster and one small one (there was no balanced division between the clusters). Each model divided the inactives schools slightly differently between the clusters, which of course affected the tuition fee structure in the cluster."
   ]
  },
  {
   "cell_type": "markdown",
   "metadata": {},
   "source": [
    "If we analyze the data we presented using the k-means model, which is our best model, \n",
    "we can see that it divided the data into two clusters, one large and one small. \n",
    "The large cluster (No. 0) contains all of the active schools, but the tuition range \n",
    "in them is lower on average than the tuition range in cluster 1, the smaller one that also contains a small percentage of closed schools (the PCa graph shows it as well)."
   ]
  },
  {
   "cell_type": "markdown",
   "metadata": {},
   "source": [
    "It is indeed strange to see that some of the closed schools fell into the cluster with the highest tuition range, and indeed we saw in our data schools with high tuition despite their \"inactive\" status. Unfortunately, we did not have additional information to investigate this phenomenon."
   ]
  },
  {
   "cell_type": "markdown",
   "metadata": {},
   "source": [
    "Another thing we saw was that the GMM model that gave \"only\" 80% impact (according to the decision tree model) on tuition fees was worse than the models that followed it (k-means & agglomerative clustering) that gave an exclusive (100%) impact on tuition fees and were also much better (according to Silhouette score & other matrics). All this shows the amount of impact and explanatory effect the tuition feature give to our data."
   ]
  }
 ],
 "metadata": {
  "kernelspec": {
   "display_name": "Python 3",
   "language": "python",
   "name": "python3"
  },
  "language_info": {
   "codemirror_mode": {
    "name": "ipython",
    "version": 3
   },
   "file_extension": ".py",
   "mimetype": "text/x-python",
   "name": "python",
   "nbconvert_exporter": "python",
   "pygments_lexer": "ipython3",
   "version": "3.13.0"
  }
 },
 "nbformat": 4,
 "nbformat_minor": 2
}
